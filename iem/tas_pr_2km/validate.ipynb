{
 "cells": [
  {
   "cell_type": "markdown",
   "id": "0e51264d-6e26-4df7-a480-fd3e1ab7c015",
   "metadata": {
    "tags": []
   },
   "source": [
    "# Validate 2km tas/pr\n",
    "\n",
    "Use this notebook to ensure that the data that has been actually loaded into rasdaman matches what we expect. \n",
    "\n",
    "## CRU TS 4.0 seasonal baseline stats point extraction check\n",
    "\n",
    "This section validates the seasonal baseline statistics coverage by comparing point queries to the coverage against manually extracted and computed values. The goal in writing the code to re-compute the values was not efficiency but rather making the computations more straightfroward. \n",
    "\n",
    "### Setup\n",
    "\n",
    "The CRU TS 4.0  GeoTIFFs need to be in a single folder for each variable, and each folder should be in the same directory. That directory may be stored in the `$SCRATCH_DIR` environment variable or may be set in the code cell below. \n",
    "\n",
    "The name of this coverage in rasdaman is `iem_cru_2km_taspr_seasonal_baseline_stats`."
   ]
  },
  {
   "cell_type": "code",
   "execution_count": 1,
   "id": "83164cd2-ea97-4483-8a72-7162d480c096",
   "metadata": {},
   "outputs": [],
   "source": [
    "import os\n",
    "import xml.etree.ElementTree as ET\n",
    "from calendar import monthrange\n",
    "from pathlib import Path\n",
    "import requests\n",
    "import numpy as np\n",
    "import rasterio as rio\n",
    "from rasterio.windows import Window\n",
    "from pyproj import Transformer\n",
    "from pyproj.crs import CRS"
   ]
  },
  {
   "cell_type": "code",
   "execution_count": 2,
   "id": "d0109278-f112-4221-b5a2-64528b6b3993",
   "metadata": {},
   "outputs": [],
   "source": [
    "# set path to datasets\n",
    "scratch_path = os.getenv(\"SCRATCH_DIR\") or \"/atlas_scratch/kmredilla/iem-webapp\"\n",
    "scratch_dir = Path(scratch_path)"
   ]
  },
  {
   "cell_type": "code",
   "execution_count": 3,
   "id": "0cbaa771-00ec-4ce2-92f7-c8917408b40c",
   "metadata": {
    "tags": []
   },
   "outputs": [],
   "source": [
    "# setup seasons to iterate over\n",
    "seasons = {\n",
    "    \"DJF\": [12, 1, 2],\n",
    "    \"MAM\": [3, 4, 5],\n",
    "    \"JJA\": [6, 7, 8],\n",
    "    \"SON\": [9, 10, 11],\n",
    "}\n",
    "\n",
    "# compute season weights for weighting \n",
    "# seasonal avaerages based on month length\n",
    "season_weights = {}\n",
    "for season in seasons.keys():\n",
    "    month_lengths = [monthrange(2021, month)[1] for month in seasons[season]]\n",
    "    season_length = np.sum(month_lengths)\n",
    "    season_weights[season] = [n / season_length for n in month_lengths]\n",
    "    \n",
    "# lookup for template fps based on varname\n",
    "temp_fps = {\n",
    "    \"tas\": \"tas_mean_C_CRU_TS40_historical_{}_{}.tif\",\n",
    "    \"pr\": \"pr_total_mm_CRU_TS40_historical_{}_{}.tif\"\n",
    "}"
   ]
  },
  {
   "cell_type": "markdown",
   "id": "35d43b7d-d51c-4e83-b3af-f29d25d96dbd",
   "metadata": {},
   "source": [
    "#### Test coordinates\n",
    "\n",
    "Coordinates for testing locations are set here."
   ]
  },
  {
   "cell_type": "code",
   "execution_count": 4,
   "id": "12afe65d-0b7f-4fac-bd6c-c722485e0c4d",
   "metadata": {},
   "outputs": [
    {
     "name": "stdout",
     "output_type": "stream",
     "text": [
      "WGS84 Lat/Lon: (65.857, -147.86), AK Albers X,Y: (280430.7467019697, 1779502.4752015218)\n",
      "WGS84 Lat/Lon: (60.128, -149.417), AK Albers X,Y: (253576.23264155164, 1135359.3852707124)\n",
      "WGS84 Lat/Lon: (66.565, -152.643), AK Albers X,Y: (60453.058350979816, 1845893.8418211928)\n",
      "WGS84 Lat/Lon: (59.24, -135.51), AK Albers X,Y: (1037973.6664627154, 1172743.5751594375)\n",
      "WGS84 Lat/Lon: (67.57, -162.97), AK Albers X,Y: (-383400.2326436074, 1982739.5047352384)\n"
     ]
    }
   ],
   "source": [
    "# transform test coords to epsg 3338\n",
    "test_coords_4326 = [\n",
    "    (65.857, -147.86),\n",
    "    (60.128, -149.417),\n",
    "    (66.565, -152.643),\n",
    "    (59.24, -135.51),\n",
    "    (67.57, -162.97),\n",
    "]\n",
    "\n",
    "transformer = Transformer.from_crs(4326, 3338)\n",
    "\n",
    "test_coords_3338 = list(transformer.itransform(test_coords_4326))\n",
    "\n",
    "for latlon, xy in zip (test_coords_4326, test_coords_3338):\n",
    "    print(f\"WGS84 Lat/Lon: {latlon}, AK Albers X,Y: {xy}\")"
   ]
  },
  {
   "cell_type": "code",
   "execution_count": 5,
   "id": "288ede79-cfdb-417b-9006-e3d0ddb79a6b",
   "metadata": {},
   "outputs": [],
   "source": [
    "# pull metadata from coverage to determine axis encodings\n",
    "meta_request = requests.get(\"http://zeus.snap.uaf.edu:8080/rasdaman/ows?&SERVICE=WCS&VERSION=2.0.1&REQUEST=DescribeCoverage&COVERAGEID=iem_cru_2km_taspr_seasonal_baseline_stats\")\n",
    "meta_xml = ET.ElementTree(ET.fromstring(meta_request.content.decode()))\n",
    "# wow xml\n",
    "encodings = eval(\n",
    "    list(\n",
    "        list(\n",
    "            list(\n",
    "                list(\n",
    "                    meta_xml.getroot()[0].iter(\"{http://www.opengis.net/gmlcov/1.0}metadata\")\n",
    "                )[0].iter(\"{http://www.opengis.net/gmlcov/1.0}Extension\")\n",
    "            )[0].iter(\"{http://www.rasdaman.org}covMetadata\")\n",
    "        )[0].iter(\"Encoding\")\n",
    "    )[0].text\n",
    ")"
   ]
  },
  {
   "cell_type": "markdown",
   "id": "33ca9e06-abc0-456d-b67d-a2d9f0ff6ccd",
   "metadata": {},
   "source": [
    "#### Run the test"
   ]
  },
  {
   "cell_type": "code",
   "execution_count": 6,
   "id": "7b3fe58f-3254-45fe-b764-934e8dadc4e3",
   "metadata": {
    "tags": []
   },
   "outputs": [],
   "source": [
    "def get_test_indices(fp, x, y):\n",
    "    # get row/col indices for given coords\n",
    "    with rio.open(fp) as src:\n",
    "        test_idx = src.index(x, y)\n",
    "    return test_idx\n",
    "\n",
    "\n",
    "def get_coverage_data(x, y):\n",
    "    data_request = requests.get(f\"http://zeus.snap.uaf.edu:8080/rasdaman/ows?&SERVICE=WCS&VERSION=2.0.1&REQUEST=GetCoverage&COVERAGEID=iem_cru_2km_taspr_seasonal_baseline_stats&SUBSET=X({x})&SUBSET=Y({y})&FORMAT=application/json\")\n",
    "    return np.array(data_request.json())\n",
    "\n",
    "\n",
    "def extract_tif_pixel(fp, row, col):\n",
    "    window = Window.from_slices(slice(row, row + 1), slice(col, col + 1))\n",
    "    # get the window transform for the windowed reading\n",
    "    with rio.open(fp) as src:\n",
    "        value = src.read(1, window=window)\n",
    "        \n",
    "    return value[0, 0]\n",
    "\n",
    "\n",
    "def compute_stat(arr, stat):\n",
    "    # compute a given statistic for a given array\n",
    "    if stat == \"hi_std\":\n",
    "        out = arr.mean() + np.std(arr)\n",
    "    elif stat == \"lo_std\":\n",
    "        out = arr.mean() - np.std(arr)\n",
    "    elif stat == \"max\":\n",
    "        out = arr.max()\n",
    "    elif stat == \"mean\":\n",
    "        out = arr.mean()\n",
    "    elif stat == \"median\":\n",
    "        out = np.percentile(arr, 50)\n",
    "    elif stat == \"min\": \n",
    "        out = arr.min()\n",
    "    elif stat == \"q1\":\n",
    "        out = np.percentile(arr, 25)\n",
    "    elif stat == \"q3\":\n",
    "        out = np.percentile(arr, 75)\n",
    "\n",
    "    return out\n",
    "\n",
    "def compute_season_summaries(season, varname, coords):\n",
    "    # global ref to scratch dir\n",
    "    src_dir = scratch_dir.joinpath(f\"cru_ts40_2km_monthly_{varname}\")\n",
    "    # convert to string for .format()\n",
    "    temp_fp = str(src_dir.joinpath(temp_fps[varname]))\n",
    "    test_idx = get_test_indices(temp_fp.format(\"01\", \"2000\"), *coords)\n",
    "    summaries = []\n",
    "    for year in np.arange(1950, 2010):\n",
    "        month_values = []\n",
    "        for month in seasons[season]:\n",
    "            fp = temp_fp.format(str(month).zfill(2), year)\n",
    "            month_values.append(extract_tif_pixel(fp, *test_idx))\n",
    "        if varname == \"tas\":\n",
    "            # compute weighted seasonal average which is basis for all stats\n",
    "            summaries.append(np.average(month_values, weights=season_weights[season]))\n",
    "        elif varname == \"pr\":\n",
    "            summaries.append(np.sum(month_values))\n",
    "\n",
    "    return np.array(summaries)"
   ]
  },
  {
   "cell_type": "code",
   "execution_count": 7,
   "id": "1e7258b4-5078-4b05-b918-5b634ef68b94",
   "metadata": {},
   "outputs": [
    {
     "name": "stdout",
     "output_type": "stream",
     "text": [
      "  Testing location: (280430.7467019697, 1779502.4752015218)\n",
      "Stats match for DJF/pr: [ True  True  True  True  True  True  True  True]\n",
      "Stats match for DJF/tas: [ True  True  True  True  True  True  True  True]\n",
      "Stats match for JJA/pr: [ True  True  True  True  True  True  True  True]\n",
      "Stats match for JJA/tas: [ True  True  True  True  True  True  True  True]\n",
      "Stats match for MAM/pr: [ True  True  True  True  True  True  True  True]\n",
      "Stats match for MAM/tas: [ True  True  True  True  True  True  True  True]\n",
      "Stats match for SON/pr: [ True  True  True  True  True  True  True  True]\n",
      "Stats match for SON/tas: [ True  True  True  True  True  True  True  True]\n",
      "\n",
      "  Testing location: (253576.23264155164, 1135359.3852707124)\n",
      "Stats match for DJF/pr: [ True  True  True  True  True  True  True  True]\n",
      "Stats match for DJF/tas: [ True  True  True  True  True  True  True  True]\n",
      "Stats match for JJA/pr: [ True  True  True  True  True  True  True  True]\n",
      "Stats match for JJA/tas: [ True  True  True  True  True  True  True  True]\n",
      "Stats match for MAM/pr: [ True  True  True  True  True  True  True  True]\n",
      "Stats match for MAM/tas: [ True  True  True  True  True  True  True  True]\n",
      "Stats match for SON/pr: [ True  True  True  True  True  True  True  True]\n",
      "Stats match for SON/tas: [ True  True  True  True  True  True  True  True]\n",
      "\n",
      "  Testing location: (60453.058350979816, 1845893.8418211928)\n",
      "Stats match for DJF/pr: [ True  True  True  True  True  True  True  True]\n",
      "Stats match for DJF/tas: [ True  True  True  True  True  True  True  True]\n",
      "Stats match for JJA/pr: [ True  True  True  True  True  True  True  True]\n",
      "Stats match for JJA/tas: [ True  True  True  True  True  True  True  True]\n",
      "Stats match for MAM/pr: [ True  True  True  True  True  True  True  True]\n",
      "Stats match for MAM/tas: [ True  True  True  True  True  True  True  True]\n",
      "Stats match for SON/pr: [ True  True  True  True  True  True  True  True]\n",
      "Stats match for SON/tas: [ True  True  True  True  True  True  True  True]\n",
      "\n",
      "  Testing location: (1037973.6664627154, 1172743.5751594375)\n",
      "Stats match for DJF/pr: [ True  True  True  True  True  True  True  True]\n",
      "Stats match for DJF/tas: [ True  True  True  True  True  True  True  True]\n",
      "Stats match for JJA/pr: [ True  True  True  True  True  True  True  True]\n",
      "Stats match for JJA/tas: [ True  True  True  True  True  True  True  True]\n",
      "Stats match for MAM/pr: [ True  True  True  True  True  True  True  True]\n",
      "Stats match for MAM/tas: [ True  True  True  True  True  True  True  True]\n",
      "Stats match for SON/pr: [ True  True  True  True  True  True  True  True]\n",
      "Stats match for SON/tas: [ True  True  True  True  True  True  True  True]\n",
      "\n",
      "  Testing location: (-383400.2326436074, 1982739.5047352384)\n",
      "Stats match for DJF/pr: [ True  True  True  True  True  True  True  True]\n",
      "Stats match for DJF/tas: [ True  True  True  True  True  True  True  True]\n",
      "Stats match for JJA/pr: [ True  True  True  True  True  True  True  True]\n",
      "Stats match for JJA/tas: [ True  True  True  True  True  True  True  True]\n",
      "Stats match for MAM/pr: [ True  True  True  True  True  True  True  True]\n",
      "Stats match for MAM/tas: [ True  True  True  True  True  True  True  True]\n",
      "Stats match for SON/pr: [ True  True  True  True  True  True  True  True]\n",
      "Stats match for SON/tas: [ True  True  True  True  True  True  True  True]\n",
      "\n",
      "Passing test for all locations: True\n"
     ]
    }
   ],
   "source": [
    "results = []\n",
    "for coords in test_coords_3338:\n",
    "    print(f\"  Testing location: {coords}\")\n",
    "    arr = get_coverage_data(*coords)\n",
    "    for si, varname_arr in enumerate(arr):\n",
    "        for vi, stat_arr in enumerate(varname_arr):\n",
    "            season = encodings[\"season\"][str(si)]\n",
    "            varname = encodings[\"varname\"][str(vi)]\n",
    "            season_summaries = compute_season_summaries(season, varname, coords)\n",
    "            test_values = []\n",
    "            for sti, stat_value in enumerate(stat_arr):\n",
    "                stat = encodings[\"stat\"][str(sti)]\n",
    "                test_values.append(compute_stat(season_summaries, stat))\n",
    "            result = np.isclose(test_values, stat_arr)\n",
    "            print(f\"Stats match for {season}/{varname}: {result}\")\n",
    "            results.append(result)\n",
    "    print(\"\")\n",
    "            \n",
    "print(f\"Passing test for all locations: {np.all(results)}\")"
   ]
  },
  {
   "cell_type": "markdown",
   "id": "85d526bf-adf7-47f7-939c-755adab800a0",
   "metadata": {},
   "source": []
  }
 ],
 "metadata": {
  "kernelspec": {
   "display_name": "rasdaman-ingest",
   "language": "python",
   "name": "rasdaman-ingest"
  },
  "language_info": {
   "codemirror_mode": {
    "name": "ipython",
    "version": 3
   },
   "file_extension": ".py",
   "mimetype": "text/x-python",
   "name": "python",
   "nbconvert_exporter": "python",
   "pygments_lexer": "ipython3",
   "version": "3.8.10"
  }
 },
 "nbformat": 4,
 "nbformat_minor": 5
}
