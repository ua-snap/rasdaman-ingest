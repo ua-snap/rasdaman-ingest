{
 "cells": [
  {
   "cell_type": "markdown",
   "id": "f6b2cda3-2e35-4adb-b6e5-dce914266373",
   "metadata": {},
   "source": [
    "# AR5 - CRU deltas styles\n",
    "\n",
    "This notebook is for exploring and configuring the styles to be used in the deltas coverage ([iem_cru_ar5_deltas_2km_taspr_seasonal](http://zeus.snap.uaf.edu:8080/rasdaman/ows?&SERVICE=WCS&VERSION=2.0.1&REQUEST=DescribeCoverage&COVERAGEID=iem_cru_ar5_deltas_2km_taspr_seasonal)). "
   ]
  },
  {
   "cell_type": "code",
   "execution_count": 15,
   "id": "eedd4feb-6c8a-4b8d-9e3d-d860fa066251",
   "metadata": {},
   "outputs": [],
   "source": [
    "# load libraries and setup\n",
    "\n",
    "import json\n",
    "import io\n",
    "import requests\n",
    "import matplotlib.pyplot as plt\n",
    "import numpy as np\n",
    "import xarray as xr\n",
    "from matplotlib import cm\n",
    "\n",
    "\n",
    "base_url = \"http://zeus.snap.uaf.edu:8080/rasdaman//ows?&SERVICE=WCS&VERSION=2.0.1&REQUEST={}\"\n",
    "# stat index 3 is mean\n",
    "wcs_url = base_url.format(\"GetCoverage&COVERAGEID=iem_cru_ar5_deltas_2km_taspr_seasonal&FORMAT=application/netcdf\")\n"
   ]
  },
  {
   "cell_type": "code",
   "execution_count": 10,
   "id": "d06d7974-62c6-433d-9192-62fe053639da",
   "metadata": {},
   "outputs": [],
   "source": [
    "# downloads all of the deltas data\n",
    "r = requests.get(wcs_url)\n",
    "deltas_ds = xr.open_dataset(io.BytesIO(r.content))"
   ]
  },
  {
   "cell_type": "markdown",
   "id": "3c3737cf-2f65-4a9e-ae63-6c0b4789c67e",
   "metadata": {
    "tags": []
   },
   "source": [
    "## Histograms\n",
    "\n",
    "Plot some histograms of these data. "
   ]
  },
  {
   "cell_type": "code",
   "execution_count": 38,
   "id": "590d9672-e649-4838-a1cf-0279bcc03ce6",
   "metadata": {},
   "outputs": [],
   "source": [
    "# plot histograms function\n",
    "def plot_hist(arr):\n",
    "    n, bins, patches = plt.hist(\n",
    "        x=arr.flatten(), bins=10, color='#0504aa', alpha=0.7\n",
    "    )\n",
    "    plt.grid(axis='y', alpha=0.75)\n",
    "    plt.xlabel('Value')\n",
    "    plt.ylabel('Frequency')\n",
    "    \n",
    "    return bins"
   ]
  },
  {
   "cell_type": "markdown",
   "id": "82e03855-e0a7-4628-8fc6-116e29be3663",
   "metadata": {},
   "source": [
    "### Precipitation"
   ]
  },
  {
   "cell_type": "code",
   "execution_count": 98,
   "id": "aca37ab5-510f-45ea-9e3d-a5d0282211bd",
   "metadata": {
    "tags": []
   },
   "outputs": [
    {
     "data": {
      "image/png": "[encoded data removed]",
      "text/plain": [
       "<Figure size 432x288 with 1 Axes>"
      ]
     },
     "metadata": {
      "needs_background": "light"
     },
     "output_type": "display_data"
    }
   ],
   "source": [
    "pr_arr = deltas_ds[\"Gray\"].sel(varname=0).values\n",
    "pr_bins = plot_hist(pr_arr)"
   ]
  },
  {
   "cell_type": "markdown",
   "id": "c9303282-503b-400a-b61f-e860043b5fee",
   "metadata": {},
   "source": [
    "### Temperature"
   ]
  },
  {
   "cell_type": "code",
   "execution_count": 42,
   "id": "33e42e84-53f4-450a-8066-b30945fac6a8",
   "metadata": {},
   "outputs": [
    {
     "data": {
      "image/png": "[encoded data removed]",
      "text/plain": [
       "<Figure size 432x288 with 1 Axes>"
      ]
     },
     "metadata": {
      "needs_background": "light"
     },
     "output_type": "display_data"
    }
   ],
   "source": [
    "tas_arr = deltas_ds[\"Gray\"].sel(varname=1).values\n",
    "tas_bins = plot_hist(tas_arr)"
   ]
  },
  {
   "cell_type": "markdown",
   "id": "988283f8-0600-427d-82e0-d23a7ef669b2",
   "metadata": {},
   "source": [
    "### Color Maps\n",
    "\n",
    "Experiment with making some color maps for rasdaman."
   ]
  },
  {
   "cell_type": "code",
   "execution_count": 154,
   "id": "c018583f-424c-479e-9f10-ee7a75a10253",
   "metadata": {},
   "outputs": [],
   "source": [
    "# normalize the bins to [0, 1]\n",
    "def norm_bin(b, bmin, bmax):\n",
    "    return (b - bmin) / (bmax - bmin)\n",
    "\n",
    "# scale normalized rgba list by 255\n",
    "def scale_rgba(rgba):\n",
    "    return list(np.round(np.array(rgba) * 255))\n",
    "\n",
    "\n",
    "viridis = cm.get_cmap('viridis', 12)\n",
    "# only go up to -1\n",
    "bmin =pr_bins[0]\n",
    "# add some padding so that normalization gets\n",
    "# close to the max of the color map\n",
    "bmax = pr_bins[-2] + 0.001\n",
    "color_table = {str(b): scale_rgba(viridis(norm_bin(b, bmin, bmax))) for b in pr_bins[:-1]}"
   ]
  },
  {
   "cell_type": "code",
   "execution_count": 157,
   "id": "7aedefd3-2b1f-42b2-ab9f-e523a28c5392",
   "metadata": {},
   "outputs": [
    {
     "data": {
      "text/plain": [
       "'{\"1.5\": [68.0, 1.0, 84.0, 255.0], \"1.883\": [72.0, 33.0, 115.0, 255.0], \"2.266\": [67.0, 62.0, 133.0, 255.0], \"2.649\": [56.0, 88.0, 140.0, 255.0], \"3.032\": [37.0, 133.0, 142.0, 255.0], \"3.415\": [30.0, 155.0, 138.0, 255.0], \"3.7979999\": [42.0, 176.0, 127.0, 255.0], \"4.1809998\": [134.0, 213.0, 73.0, 255.0], \"4.564\": [194.0, 223.0, 35.0, 255.0], \"4.947\": [253.0, 231.0, 37.0, 255.0]}'"
      ]
     },
     "execution_count": 157,
     "metadata": {},
     "output_type": "execute_result"
    }
   ],
   "source": [
    "json.dumps(color_table)"
   ]
  },
  {
   "cell_type": "code",
   "execution_count": 53,
   "id": "9388ac4e-c55f-4e3a-8e73-73f429f51a57",
   "metadata": {},
   "outputs": [],
   "source": [
    "# copy and paste that into here, add \n",
    "{\n",
    "  \"type\": \"intervals\",\n",
    "  \"colorTable\": {\n",
    "    \"-9999\": [0, 0, 0, 0],\n",
    "    \"1.5\": [68.0, 1.0, 84.0, 255.0], \n",
    "    \"1.883\": [72.0, 33.0, 115.0, 255.0], \n",
    "    \"2.266\": [67.0, 62.0, 133.0, 255.0], \n",
    "    \"2.649\": [56.0, 88.0, 140.0, 255.0],\n",
    "    \"3.032\": [37.0, 133.0, 142.0, 255.0], \n",
    "    \"3.415\": [30.0, 155.0, 138.0, 255.0], \n",
    "    \"3.7979999\": [42.0, 176.0, 127.0, 255.0], \n",
    "    \"4.1809998\": [134.0, 213.0, 73.0, 255.0], \n",
    "    \"4.564\": [194.0, 223.0, 35.0, 255.0], \n",
    "    \"4.947\": [253.0, 231.0, 37.0, 255.0]\n",
    "  }\n",
    "}"
   ]
  },
  {
   "cell_type": "markdown",
   "id": "88138902-adbd-47ed-8247-d5e283f0789e",
   "metadata": {},
   "source": [
    "[This is an example WMS query](http://zeus.snap.uaf.edu:8080/rasdaman/ows?service=WMS&version=1.3.0&request=GetMap&layers=iem_cru_ar5_deltas_2km_taspr_seasonal&bbox=-739223.2060877988,518412.932644147,1820776.7939122012,2380412.932644147&period=0&season=0&model=0&scenario=0&varname=0&width=1280&height=931&crs=EPSG:3338&format=image/png&transparent=true&styles=precipitation) for the whole extent using a style called precipitation. "
   ]
  },
  {
   "cell_type": "code",
   "execution_count": null,
   "id": "44a7bdb0-e9da-43ea-b3c2-da13c9a3b330",
   "metadata": {},
   "outputs": [],
   "source": []
  }
 ],
 "metadata": {
  "kernelspec": {
   "display_name": "rasdaman-ingest",
   "language": "python",
   "name": "rasdaman-ingest"
  },
  "language_info": {
   "codemirror_mode": {
    "name": "ipython",
    "version": 3
   },
   "file_extension": ".py",
   "mimetype": "text/x-python",
   "name": "python",
   "nbconvert_exporter": "python",
   "pygments_lexer": "ipython3",
   "version": "3.8.10"
  }
 },
 "nbformat": 4,
 "nbformat_minor": 5
}
