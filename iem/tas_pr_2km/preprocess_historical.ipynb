{
 "cells": [
  {
   "cell_type": "markdown",
   "id": "4bb166f8-2518-4bce-a5bb-6a4dcbbe74f6",
   "metadata": {},
   "source": [
    "# CRU TS 4.0 Preprocessing\n",
    "\n",
    "Use this notebook to preprocess SNAP's 2km CRU TS 4.0 [temperature](http://ckan.snap.uaf.edu/dataset/historical-monthly-and-derived-temperature-products-downscaled-from-cru-ts-data-via-the-delta-m) and [precipitation](http://ckan.snap.uaf.edu/dataset/historical-monthly-and-derived-precipitation-products-downscaled-from-cru-ts-data-via-the-delta) data for ingest into rasdaman. \n",
    "\n",
    "The code in here is set up to compute statistics for each season for the period of 1950-2009 using the monthly means provided in the CRU TS 4.0 dataset (currently the only non-decadal dataset in SNAP's holdings!). It then clips these new summary GeoTIFFs to the IEM extent. The following stats are computed:\n",
    "\n",
    "- mean\n",
    "- mean + standard deviation\n",
    "- mean - standard deviation\n",
    "- min\n",
    "- max\n",
    "- median\n",
    "- 25th percentile\n",
    "- 75th percentile\n",
    "\n",
    "## Setup\n",
    "\n",
    "1. The CRU TS 4.0  GeoTIFFs need to be in a single folder for each variable, and each folder should be in the same directory. That directory may be stored in the `$SCRATCH_DIR` environment variable or may be set in the cell below. This directory is also used for writing a temporary file before clipping to the IEM domain.\n",
    "2. The shapefile for the IEM domain can be found in the [geospatial-vector-veractiy](https://github.com/ua-snap/geospatial-vector-veracity/blob/706c56855885165eab2c4817e8ca8a4ffb9d751a/vector_data/polygon/boundaries/iem/AIEM_domain.shp) repo. Clone this repo and change the input path as needed in the following code cell, or set the `$GVV_DIR` environment variable.\n",
    "\n",
    "Averaged and clipped rasters will be written to a single output folder with the name of the workding data directory plus the suffix `_1950-2009_<stat>_<season>_iem_domain`.\n"
   ]
  },
  {
   "cell_type": "code",
   "execution_count": 1,
   "id": "f9a66987-89c3-409f-b8e4-8b4c30938a4c",
   "metadata": {},
   "outputs": [],
   "source": [
    "import os\n",
    "from pathlib import Path\n",
    "\n",
    "# set paths to datasets and geospatial-vector-veractiy repo\n",
    "scratch_path = os.getenv(\"SCRATCH_DIR\") or \"/atlas_scratch/kmredilla/iem-webapp\"\n",
    "gvv_path = os.getenv(\"GVV_DIR\") or \"/workspace/UA/kmredilla/geospatial-vector-veracity\"\n",
    "\n",
    "scratch_dir = Path(scratch_path)\n",
    "gvv_dir = Path(gvv_path)"
   ]
  },
  {
   "cell_type": "markdown",
   "id": "ccbafc97-9d63-4bac-b1fc-8d460c626bae",
   "metadata": {},
   "source": [
    "### Get the extent of the clipped domain\n",
    "\n",
    "It is most efficient to only average over the extent of the IEM domain, since we will be clipping the final data to that polygon. Get the extent values from the domain shapefile:"
   ]
  },
  {
   "cell_type": "code",
   "execution_count": 2,
   "id": "61085d32-d34a-46d2-a17a-e7c8a1a8e4d5",
   "metadata": {},
   "outputs": [],
   "source": [
    "import geopandas as gpd\n",
    "import numpy as np\n",
    "\n",
    "\n",
    "# get extent of clipped raster using a sample FP\n",
    "# because we don't need to be averaging over areas\n",
    "# we don't intend to keep.\n",
    "\n",
    "# IEM domain\n",
    "aiem_domain_gdf = gpd.read_file(gvv_dir.joinpath(\"vector_data/polygon/boundaries/iem/AIEM_domain.shp\"))\n",
    "        \n",
    "bounds = {bound: value for bound, value in zip([\"wb\", \"sb\", \"eb\", \"nb\"], aiem_domain_gdf.bounds.values[0])}"
   ]
  },
  {
   "cell_type": "markdown",
   "id": "cde4a2f8-9cd4-4263-bc91-7b6d393ed3ea",
   "metadata": {},
   "source": [
    "### Setup environment and functions\n",
    "\n",
    "Set the `data_dir_name` variable below to be the name of the folder to work on. Execute the cell below that to load the libraries and preprocessing functions."
   ]
  },
  {
   "cell_type": "code",
   "execution_count": 3,
   "id": "312258cd-7ed0-46cb-bc0a-62418ef7d065",
   "metadata": {},
   "outputs": [],
   "source": [
    "data_dir_name = \"cru_ts40_2km_monthly_tas\" "
   ]
  },
  {
   "cell_type": "code",
   "execution_count": 4,
   "id": "f5acb094-4846-46a6-83ec-68c4955a8cae",
   "metadata": {},
   "outputs": [],
   "source": [
    "import matplotlib.pyplot as plt\n",
    "import rasterio as rio\n",
    "from calendar import monthrange\n",
    "from multiprocessing import Pool\n",
    "from rasterio.mask import mask\n",
    "from rasterio.plot import show\n",
    "from rasterio.windows import Window\n",
    "from tqdm.notebook import tqdm\n",
    "\n",
    "\n",
    "# setup seasons to iterate over\n",
    "seasons = {\n",
    "    \"DJF\": [12, 1, 2],\n",
    "    \"MAM\": [3, 4, 5],\n",
    "    \"JJA\": [6, 7, 8],\n",
    "    \"SON\": [9, 10, 11],\n",
    "}\n",
    "\n",
    "# open a single file to get the row/column values for \n",
    "# windowed reading using the domain extent bounds\n",
    "fp = list(scratch_dir.joinpath(data_dir_name).glob(\"*.tif\"))[0]\n",
    "with rio.open(fp) as src:\n",
    "    row_start = src.index(bounds[\"wb\"], bounds[\"nb\"])[0]\n",
    "    row_stop = src.index(bounds[\"wb\"], bounds[\"sb\"])[0]\n",
    "    col_start = src.index(bounds[\"wb\"], bounds[\"sb\"])[1]\n",
    "    col_stop = src.index(bounds[\"eb\"], bounds[\"sb\"])[1]\n",
    "    # also save metadata for later\n",
    "    tmp_meta = src.meta.copy()\n",
    "    # create the window object for reuse\n",
    "    window = Window.from_slices(slice(row_start, row_stop), slice(col_start, col_stop))\n",
    "    # get the window transform for the windowed reading\n",
    "    window_transform = src.window_transform(window)\n",
    "    arr = src.read(1, window=window)\n",
    "    height, width = arr.shape[-2:]\n",
    "\n",
    "tmp_meta.update({\"transform\": window_transform, \"height\": height, \"width\": width})\n",
    "\n",
    "\n",
    "def read_tif(args):\n",
    "    \"\"\"Read a geotiff using a window\"\"\"\n",
    "    fp, window = args\n",
    "    with rio.open(fp) as src:\n",
    "        return src.read(1, window=window)\n",
    "\n",
    "\n",
    "def run_summary(fps, window, tmp_meta, fn_props):\n",
    "    \"\"\"Run the summarizaiton of the data files. Reads the data\n",
    "    into an array, and writes new files based on chosen summary\n",
    "    stat.\n",
    "    \n",
    "    Args:\n",
    "        fn_props (dict): dict of:\n",
    "            season_weights, 3-element list of weights corresponding to \n",
    "                number of days in each of the three months\n",
    "            varname, str of varname being summarized\n",
    "            season, str of season being summarized\n",
    "            \n",
    "    Returns:\n",
    "        list of paths to files containing summary data\n",
    "    \"\"\"\n",
    "    arrs = []\n",
    "    args = [(fp, window) for fp in fps]\n",
    "    print(\"Reading GeoTIFFs into a single array\", end=\"...\")\n",
    "    with Pool(32) as pool:\n",
    "        for out in tqdm(pool.imap(read_tif, args), total=len(args)):\n",
    "            arrs.append(out)\n",
    "    print(\"done.\")\n",
    "    \n",
    "    # with all months read, group into 3-month cubes to aggregate over season\n",
    "    # arrays are ordered by year and month\n",
    "    def chunk(lst, n):\n",
    "        \"\"\"Helper to group elements of a list into \n",
    "        sub-lists of length n\"\"\"\n",
    "        for i in range(0, len(lst), n):\n",
    "            yield lst[i:i + n]\n",
    "    \n",
    "    arrs = list(chunk(arrs, 3))\n",
    "    arr = np.array(arrs)\n",
    "    \n",
    "    # depending on varname, either take totals (precip) or means (temp)\n",
    "    varname = fn_props[\"varname\"]\n",
    "    if varname == \"tas\":\n",
    "        arr = np.average(arr, axis=1, weights=fn_props[\"season_weights\"])\n",
    "    elif varname == \"pr\":\n",
    "        arr = arr.sum(axis=1)\n",
    "        # reset -9999 nodata values that were summed\n",
    "        arr[arr == -29997] = -9999\n",
    "    \n",
    "    mean_arr = arr.mean(axis=0)\n",
    "    std_arr = arr.std(axis=0)\n",
    "    lo_std_arr = mean_arr - std_arr\n",
    "    hi_std_arr = mean_arr + std_arr\n",
    "    min_arr = arr.min(axis=0)\n",
    "    max_arr = arr.max(axis=0)\n",
    "    stat_arrs = [mean_arr, lo_std_arr, hi_std_arr, min_arr, max_arr]\n",
    "    _ = [stat_arrs.append(np.percentile(arr, q, axis=0))  for q in (25, 50, 75)]\n",
    "    stat_names = [\"mean\", \"lo_std\", \"hi_std\", \"min\", \"max\", \"q1\", \"median\", \"q3\"]\n",
    "\n",
    "    tmp_dir = scratch_dir.joinpath(\"tmp\")\n",
    "    tmp_dir.mkdir(exist_ok=True)\n",
    "    tmp_fp = tmp_dir.joinpath(\"cru_ts40_2km_{}_{}_{}_1950-2009_iem_extent.tif\")\n",
    "    \n",
    "    out_fps = []\n",
    "    for stat, arr in zip(stat_names, stat_arrs):\n",
    "        fp = Path(str(tmp_fp).format(varname, fn_props[\"season\"], stat))\n",
    "        # make sure file is removed prior to opening to avoid\n",
    "        # inheriting previous metadata\n",
    "        fp.unlink(missing_ok=True)\n",
    "        with rio.open(fp, \"w\", **tmp_meta) as dst:\n",
    "            dst.write(arr, 1)\n",
    "        out_fps.append(fp)\n",
    "    \n",
    "    return out_fps\n",
    "\n",
    "\n",
    "def clip_raster(fp, clip_poly, out_dir):\n",
    "    \"\"\"Clip a raster to clip_poly, crop to extent, \n",
    "    write to final output directory and remove the \n",
    "    intermediate raster that is being clipped.\n",
    "    \"\"\"    \n",
    "    with rio.open(fp) as src:\n",
    "        arr, new_transform = mask(src, clip_poly, crop=True)\n",
    "        new_meta = src.meta.copy()\n",
    "    out_fp = out_dir.joinpath(Path(fp).name.replace(\"_iem_extent.tif\", \"_iem_domain.tif\"))\n",
    "    new_meta.update({\"transform\": new_transform})\n",
    "    with rio.open(out_fp, \"w\", **new_meta) as dst:\n",
    "        dst.write(arr[0], 1)\n",
    "        \n",
    "    return out_fp\n",
    "          \n",
    "\n",
    "def run_clip_rasters(fps, clip_poly, out_dir):\n",
    "    \"\"\"Supply the path to directory containing the GeoTIFFs to be clipped\"\"\"\n",
    "    print(\"Clipping rasters to IEM domain...\")\n",
    "    out_fps = [clip_raster(fp, clip_poly, out_dir) for fp in tqdm(fps)]\n",
    "    print(f\"All IEM rasters clipped and written to {out_dir}\")\n",
    "    \n",
    "    return out_fps\n",
    "\n",
    "\n",
    "def run_preprocessing(src_dir, temp_fp, varname):\n",
    "    \"\"\"\n",
    "    Args:\n",
    "        src_dir (str): name of subdir of $SCRATCH_DIR containing files to be processed\n",
    "        temp_fp (str): template data file name with brackets for month and year\n",
    "        varname (str): varname for control over seasonal aggregation method\n",
    "        \n",
    "    Returns:\n",
    "        list of paths to files containing summarized data\n",
    "    \"\"\"\n",
    "    # iterate over seasons \n",
    "    tmp_fps = []\n",
    "    for season in seasons.keys():\n",
    "        months = seasons[season]\n",
    "        fps = []\n",
    "        # grab filepaths for each month in the season, \n",
    "        for year in np.arange(1950, 2010):\n",
    "            for month in months:\n",
    "                fps.append(src_dir.joinpath(temp_fp.format(str(month).zfill(2), year)))\n",
    "        \n",
    "        # save corresponding list of weights for each month\n",
    "        month_lengths = []\n",
    "        _ = [month_lengths.append(monthrange(2021, month)[1]) for month in months]\n",
    "        season_length = np.sum(month_lengths)\n",
    "        fn_props = {\"season_weights\": [n / season_length for n in month_lengths]}\n",
    "        \n",
    "        print(f\"Summarizing {season} from {src_dir}\")\n",
    "        fn_props.update({\"varname\": varname, \"season\": season})\n",
    "        tmp_fps.extend(run_summary(fps, window, tmp_meta, fn_props))\n",
    "    \n",
    "    out_dir = src_dir.parent.joinpath(data_dir_name + \"_iem_domain\")\n",
    "    out_dir.mkdir(exist_ok=True)\n",
    "    out_fps = run_clip_rasters(tmp_fps, aiem_domain_gdf.geometry, out_dir)\n",
    "    \n",
    "    return out_fps\n",
    "\n",
    "\n",
    "def plot_sample_tif(fp):\n",
    "    with rio.open(fp) as src:\n",
    "        arr = src.read(1)\n",
    "        arr[arr == src.meta[\"nodata\"]] = np.nan\n",
    "        plt.imshow(arr, interpolation=\"none\")"
   ]
  },
  {
   "cell_type": "markdown",
   "id": "7c9d0b3b-ad09-4645-b185-f5f7356f542a",
   "metadata": {},
   "source": [
    "## Preprocess\n",
    "\n",
    "### Temperature"
   ]
  },
  {
   "cell_type": "code",
   "execution_count": 5,
   "id": "78ef2fd0-986a-43ad-8686-1af5f4b69c35",
   "metadata": {
    "tags": []
   },
   "outputs": [
    {
     "name": "stdout",
     "output_type": "stream",
     "text": [
      "Summarizing DJF from /atlas_scratch/kmredilla/iem-webapp/cru_ts40_2km_monthly_tas\n",
      "Reading GeoTIFFs into a single array..."
     ]
    },
    {
     "data": {
      "application/vnd.jupyter.widget-view+json": {
       "model_id": "85f3a30d4c3e4093bf0f9b77f8a6af58",
       "version_major": 2,
       "version_minor": 0
      },
      "text/plain": [
       "  0%|          | 0/180 [00:00<?, ?it/s]"
      ]
     },
     "metadata": {},
     "output_type": "display_data"
    },
    {
     "name": "stdout",
     "output_type": "stream",
     "text": [
      "done.\n",
      "Summarizing MAM from /atlas_scratch/kmredilla/iem-webapp/cru_ts40_2km_monthly_tas\n",
      "Reading GeoTIFFs into a single array..."
     ]
    },
    {
     "data": {
      "application/vnd.jupyter.widget-view+json": {
       "model_id": "e3cc2db24b4a4be5bff8e935c4c3598c",
       "version_major": 2,
       "version_minor": 0
      },
      "text/plain": [
       "  0%|          | 0/180 [00:00<?, ?it/s]"
      ]
     },
     "metadata": {},
     "output_type": "display_data"
    },
    {
     "name": "stdout",
     "output_type": "stream",
     "text": [
      "done.\n",
      "Summarizing JJA from /atlas_scratch/kmredilla/iem-webapp/cru_ts40_2km_monthly_tas\n",
      "Reading GeoTIFFs into a single array..."
     ]
    },
    {
     "data": {
      "application/vnd.jupyter.widget-view+json": {
       "model_id": "09b02d0206cf4c24b3159f46f70ead38",
       "version_major": 2,
       "version_minor": 0
      },
      "text/plain": [
       "  0%|          | 0/180 [00:00<?, ?it/s]"
      ]
     },
     "metadata": {},
     "output_type": "display_data"
    },
    {
     "name": "stdout",
     "output_type": "stream",
     "text": [
      "done.\n",
      "Summarizing SON from /atlas_scratch/kmredilla/iem-webapp/cru_ts40_2km_monthly_tas\n",
      "Reading GeoTIFFs into a single array..."
     ]
    },
    {
     "data": {
      "application/vnd.jupyter.widget-view+json": {
       "model_id": "fce8ee17eb5d45b788238de839de0824",
       "version_major": 2,
       "version_minor": 0
      },
      "text/plain": [
       "  0%|          | 0/180 [00:00<?, ?it/s]"
      ]
     },
     "metadata": {},
     "output_type": "display_data"
    },
    {
     "name": "stdout",
     "output_type": "stream",
     "text": [
      "done.\n",
      "Clipping rasters to IEM domain...\n"
     ]
    },
    {
     "data": {
      "application/vnd.jupyter.widget-view+json": {
       "model_id": "13b0e330c2654fdbbfcd2d2f9ede3e2e",
       "version_major": 2,
       "version_minor": 0
      },
      "text/plain": [
       "  0%|          | 0/32 [00:00<?, ?it/s]"
      ]
     },
     "metadata": {},
     "output_type": "display_data"
    },
    {
     "name": "stdout",
     "output_type": "stream",
     "text": [
      "All IEM rasters clipped and written to /atlas_scratch/kmredilla/iem-webapp/cru_ts40_2km_monthly_tas_iem_domain\n"
     ]
    }
   ],
   "source": [
    "src_dir = scratch_dir.joinpath(data_dir_name)\n",
    "temp_fp = \"tas_mean_C_CRU_TS40_historical_{}_{}.tif\"\n",
    "varname = \"tas\"\n",
    "\n",
    "tas_out_fps = run_preprocessing(src_dir, temp_fp, varname)"
   ]
  },
  {
   "cell_type": "code",
   "execution_count": 6,
   "id": "8d565f9f-22ff-4d9b-ada7-30f650d52f40",
   "metadata": {},
   "outputs": [
    {
     "data": {
      "image/png": "[encoded data removed]",
      "text/plain": [
       "<Figure size 432x288 with 1 Axes>"
      ]
     },
     "metadata": {
      "needs_background": "light"
     },
     "output_type": "display_data"
    }
   ],
   "source": [
    "plot_sample_tif(tas_out_fps[0])"
   ]
  },
  {
   "cell_type": "markdown",
   "id": "deccedaa-2a49-48c4-9ace-cfa06d7d77db",
   "metadata": {},
   "source": [
    "### Precipitation"
   ]
  },
  {
   "cell_type": "code",
   "execution_count": 8,
   "id": "8802071d-2dba-4b69-a80e-fc5bff87d623",
   "metadata": {},
   "outputs": [
    {
     "name": "stdout",
     "output_type": "stream",
     "text": [
      "Summarizing DJF from /atlas_scratch/kmredilla/iem-webapp/cru_ts40_2km_monthly_pr\n",
      "Reading GeoTIFFs into a single array..."
     ]
    },
    {
     "data": {
      "application/vnd.jupyter.widget-view+json": {
       "model_id": "cc14441b96fe4913b98877258e245477",
       "version_major": 2,
       "version_minor": 0
      },
      "text/plain": [
       "  0%|          | 0/180 [00:00<?, ?it/s]"
      ]
     },
     "metadata": {},
     "output_type": "display_data"
    },
    {
     "name": "stdout",
     "output_type": "stream",
     "text": [
      "done.\n",
      "Summarizing MAM from /atlas_scratch/kmredilla/iem-webapp/cru_ts40_2km_monthly_pr\n",
      "Reading GeoTIFFs into a single array..."
     ]
    },
    {
     "data": {
      "application/vnd.jupyter.widget-view+json": {
       "model_id": "54e97169a06943f58b19cb3291c1f7d3",
       "version_major": 2,
       "version_minor": 0
      },
      "text/plain": [
       "  0%|          | 0/180 [00:00<?, ?it/s]"
      ]
     },
     "metadata": {},
     "output_type": "display_data"
    },
    {
     "name": "stdout",
     "output_type": "stream",
     "text": [
      "done.\n",
      "Summarizing JJA from /atlas_scratch/kmredilla/iem-webapp/cru_ts40_2km_monthly_pr\n",
      "Reading GeoTIFFs into a single array..."
     ]
    },
    {
     "data": {
      "application/vnd.jupyter.widget-view+json": {
       "model_id": "765ab68a0e8e400ea18da03ba6bba001",
       "version_major": 2,
       "version_minor": 0
      },
      "text/plain": [
       "  0%|          | 0/180 [00:00<?, ?it/s]"
      ]
     },
     "metadata": {},
     "output_type": "display_data"
    },
    {
     "name": "stdout",
     "output_type": "stream",
     "text": [
      "done.\n",
      "Summarizing SON from /atlas_scratch/kmredilla/iem-webapp/cru_ts40_2km_monthly_pr\n",
      "Reading GeoTIFFs into a single array..."
     ]
    },
    {
     "data": {
      "application/vnd.jupyter.widget-view+json": {
       "model_id": "3471ac280066445e83575fd6e047e179",
       "version_major": 2,
       "version_minor": 0
      },
      "text/plain": [
       "  0%|          | 0/180 [00:00<?, ?it/s]"
      ]
     },
     "metadata": {},
     "output_type": "display_data"
    },
    {
     "name": "stdout",
     "output_type": "stream",
     "text": [
      "done.\n",
      "Clipping rasters to IEM domain...\n"
     ]
    },
    {
     "data": {
      "application/vnd.jupyter.widget-view+json": {
       "model_id": "f97f72ba164c47b6a4127fca25b976b0",
       "version_major": 2,
       "version_minor": 0
      },
      "text/plain": [
       "  0%|          | 0/32 [00:00<?, ?it/s]"
      ]
     },
     "metadata": {},
     "output_type": "display_data"
    },
    {
     "name": "stdout",
     "output_type": "stream",
     "text": [
      "All IEM rasters clipped and written to /atlas_scratch/kmredilla/iem-webapp/cru_ts40_2km_monthly_pr_iem_domain\n"
     ]
    }
   ],
   "source": [
    "data_dir_name = \"cru_ts40_2km_monthly_pr\" \n",
    "src_dir = scratch_dir.joinpath(data_dir_name)\n",
    "temp_fp = \"pr_total_mm_CRU_TS40_historical_{}_{}.tif\"\n",
    "varname = \"pr\"\n",
    "\n",
    "pr_out_fps = run_preprocessing(src_dir, temp_fp, varname)"
   ]
  },
  {
   "cell_type": "code",
   "execution_count": 9,
   "id": "9e9ebee6-abba-44c8-8aca-efa70a983b36",
   "metadata": {},
   "outputs": [
    {
     "data": {
      "image/png": "[encoded data removed]",
      "text/plain": [
       "<Figure size 432x288 with 1 Axes>"
      ]
     },
     "metadata": {
      "needs_background": "light"
     },
     "output_type": "display_data"
    }
   ],
   "source": [
    "plot_sample_tif(pr_out_fps[0])"
   ]
  },
  {
   "cell_type": "markdown",
   "id": "4c034e93-11f7-44c1-8325-f015adec9ae2",
   "metadata": {},
   "source": [
    "## Explore interseasonal differences in temperature variance\n",
    "\n",
    "There are some large differences between shoulder/non-shoulder seasons w.r.t. variance of seasonal temperature means. This section is used for generating some helpful info on that."
   ]
  },
  {
   "cell_type": "code",
   "execution_count": 10,
   "id": "d95a150b-be21-4647-b0ad-abbac2df4bd4",
   "metadata": {},
   "outputs": [],
   "source": [
    "# EPSG:3338 coords for fairbanks\n",
    "fbx_idx = src.index(297698.81, 1667062.25)\n",
    "\n",
    "def chunk(lst, n):\n",
    "    \"\"\"Helper to group elements of a list into \n",
    "    sub-lists of length n\"\"\"\n",
    "    for i in range(0, len(lst), n):\n",
    "        yield lst[i:i + n]\n",
    "\n",
    "        \n",
    "def plot_season_histogram(src_dir, temp_fp, season):\n",
    "    fps = []\n",
    "    for year in np.arange(1950, 2010):\n",
    "        for month in seasons[season]:\n",
    "            fps.append(src_dir.joinpath(temp_fp.format(str(month).zfill(2), year)))\n",
    "\n",
    "    arrs = []\n",
    "    args = [(fp, window) for fp in fps]\n",
    "    print(\"Reading GeoTIFFs into a single array\", end=\"...\")\n",
    "    with Pool(32) as pool:\n",
    "        for out in tqdm(pool.imap(read_tif, args), total=len(args)):\n",
    "            arrs.append(out)\n",
    "    print(\"done.\")\n",
    "\n",
    "    arrs = list(chunk(arrs, 3))\n",
    "    arr = np.array(arrs)\n",
    "    # not weighted\n",
    "    mean_arr = arr.mean(axis=1)\n",
    "    # these indices deter\n",
    "    fbx_arr = np.around(mean_arr[:, fbx_idx[0], fbx_idx[1]], 1)\n",
    "    plt.hist(fbx_arr)\n",
    "    plt.suptitle(f\"{season} histogram\")\n",
    "    plt.show()\n",
    "    print(f\"Range: {fbx_arr.min():.1f}, {fbx_arr.max():.1f}, max-min == {fbx_arr.max() - fbx_arr.min():.1f}\")\n",
    "    print(f\"q1, median, q3: {np.round([np.percentile(fbx_arr, q, axis=0) for q in (25, 50, 75)], 1)}\")"
   ]
  },
  {
   "cell_type": "code",
   "execution_count": 11,
   "id": "818bf510-62d3-43d9-9ecc-efb70a0619fa",
   "metadata": {},
   "outputs": [],
   "source": [
    "data_dir_name = \"cru_ts40_2km_monthly_tas\" \n",
    "varname = \"tas\"\n",
    "src_dir = scratch_dir.joinpath(data_dir_name)\n",
    "temp_fp = \"tas_mean_C_CRU_TS40_historical_{}_{}.tif\""
   ]
  },
  {
   "cell_type": "code",
   "execution_count": 12,
   "id": "eca36559-1a13-4a56-b490-a566ea608068",
   "metadata": {},
   "outputs": [
    {
     "name": "stdout",
     "output_type": "stream",
     "text": [
      "Reading GeoTIFFs into a single array..."
     ]
    },
    {
     "data": {
      "application/vnd.jupyter.widget-view+json": {
       "model_id": "a83ef73a862b415ca7b71d41e10b2990",
       "version_major": 2,
       "version_minor": 0
      },
      "text/plain": [
       "  0%|          | 0/180 [00:00<?, ?it/s]"
      ]
     },
     "metadata": {},
     "output_type": "display_data"
    },
    {
     "name": "stdout",
     "output_type": "stream",
     "text": [
      "done.\n"
     ]
    },
    {
     "data": {
      "image/png": "[encoded data removed]",
      "text/plain": [
       "<Figure size 432x288 with 1 Axes>"
      ]
     },
     "metadata": {
      "needs_background": "light"
     },
     "output_type": "display_data"
    },
    {
     "name": "stdout",
     "output_type": "stream",
     "text": [
      "Range: -20.0, -9.3, max-min == 10.7\n",
      "q1, median, q3: [-17.1 -15.  -13.5]\n"
     ]
    }
   ],
   "source": [
    "plot_season_histogram(src_dir, temp_fp, \"DJF\")"
   ]
  },
  {
   "cell_type": "code",
   "execution_count": 13,
   "id": "152060de-66b6-4598-9c4e-053cc4a6efca",
   "metadata": {},
   "outputs": [
    {
     "name": "stdout",
     "output_type": "stream",
     "text": [
      "Reading GeoTIFFs into a single array..."
     ]
    },
    {
     "data": {
      "application/vnd.jupyter.widget-view+json": {
       "model_id": "eb953f54ba7a40e78136fce13a50eb08",
       "version_major": 2,
       "version_minor": 0
      },
      "text/plain": [
       "  0%|          | 0/180 [00:00<?, ?it/s]"
      ]
     },
     "metadata": {},
     "output_type": "display_data"
    },
    {
     "name": "stdout",
     "output_type": "stream",
     "text": [
      "done.\n"
     ]
    },
    {
     "data": {
      "image/png": "[encoded data removed]",
      "text/plain": [
       "<Figure size 432x288 with 1 Axes>"
      ]
     },
     "metadata": {
      "needs_background": "light"
     },
     "output_type": "display_data"
    },
    {
     "name": "stdout",
     "output_type": "stream",
     "text": [
      "Range: -3.4, 4.3, max-min == 7.7\n",
      "q1, median, q3: [-0.6  0.4  1.8]\n"
     ]
    }
   ],
   "source": [
    "plot_season_histogram(src_dir, temp_fp, \"MAM\")"
   ]
  },
  {
   "cell_type": "code",
   "execution_count": 14,
   "id": "5eb92b83-3694-493f-9b4d-e8d6c8d557ff",
   "metadata": {},
   "outputs": [
    {
     "name": "stdout",
     "output_type": "stream",
     "text": [
      "Reading GeoTIFFs into a single array..."
     ]
    },
    {
     "data": {
      "application/vnd.jupyter.widget-view+json": {
       "model_id": "77977dead04e4782a61db1103047866b",
       "version_major": 2,
       "version_minor": 0
      },
      "text/plain": [
       "  0%|          | 0/180 [00:00<?, ?it/s]"
      ]
     },
     "metadata": {},
     "output_type": "display_data"
    },
    {
     "name": "stdout",
     "output_type": "stream",
     "text": [
      "done.\n"
     ]
    },
    {
     "data": {
      "image/png": "[encoded data removed]",
      "text/plain": [
       "<Figure size 432x288 with 1 Axes>"
      ]
     },
     "metadata": {
      "needs_background": "light"
     },
     "output_type": "display_data"
    },
    {
     "name": "stdout",
     "output_type": "stream",
     "text": [
      "Range: 12.3, 15.5, max-min == 3.2\n",
      "q1, median, q3: [13.3 13.7 14.1]\n"
     ]
    }
   ],
   "source": [
    "plot_season_histogram(src_dir, temp_fp, \"JJA\")"
   ]
  },
  {
   "cell_type": "code",
   "execution_count": 15,
   "id": "31e827a8-e967-4786-a463-63e22d74129b",
   "metadata": {},
   "outputs": [
    {
     "name": "stdout",
     "output_type": "stream",
     "text": [
      "Reading GeoTIFFs into a single array..."
     ]
    },
    {
     "data": {
      "application/vnd.jupyter.widget-view+json": {
       "model_id": "32f82f8da33c4f409e12490172f1f1b0",
       "version_major": 2,
       "version_minor": 0
      },
      "text/plain": [
       "  0%|          | 0/180 [00:00<?, ?it/s]"
      ]
     },
     "metadata": {},
     "output_type": "display_data"
    },
    {
     "name": "stdout",
     "output_type": "stream",
     "text": [
      "done.\n"
     ]
    },
    {
     "data": {
      "image/png": "[encoded data removed]",
      "text/plain": [
       "<Figure size 432x288 with 1 Axes>"
      ]
     },
     "metadata": {
      "needs_background": "light"
     },
     "output_type": "display_data"
    },
    {
     "name": "stdout",
     "output_type": "stream",
     "text": [
      "Range: -3.9, 2.8, max-min == 6.7\n",
      "q1, median, q3: [-1.7 -0.7  0.6]\n"
     ]
    }
   ],
   "source": [
    "plot_season_histogram(src_dir, temp_fp, \"SON\")"
   ]
  },
  {
   "cell_type": "code",
   "execution_count": null,
   "id": "0d296185-0f0c-4378-a6db-a92776ce3ce7",
   "metadata": {},
   "outputs": [],
   "source": []
  }
 ],
 "metadata": {
  "kernelspec": {
   "display_name": "rasdaman-ingest",
   "language": "python",
   "name": "rasdaman-ingest"
  },
  "language_info": {
   "codemirror_mode": {
    "name": "ipython",
    "version": 3
   },
   "file_extension": ".py",
   "mimetype": "text/x-python",
   "name": "python",
   "nbconvert_exporter": "python",
   "pygments_lexer": "ipython3",
   "version": "3.8.10"
  }
 },
 "nbformat": 4,
 "nbformat_minor": 5
}
