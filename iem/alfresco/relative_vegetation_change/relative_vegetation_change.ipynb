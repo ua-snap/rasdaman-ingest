{
 "cells": [
  {
   "cell_type": "markdown",
   "id": "54d23cf2-6673-4d7a-b929-180e5c2e526e",
   "metadata": {},
   "source": [
    "# Run relative vegetation change for IEM CMIP5 ALFRESCO outputs\n",
    "\n",
    "This notebooks orchestrates the computation of relative vegetation change using the `https://github.com/ua-snap/alfresco_postprocessing/bin/alfresco_relative_vegetation_change.py` script and slurm.\n",
    "\n",
    "To run this processing, that script must be present on the system and the path to it should be stored in the `REL_VEG_SCRIPT_PATH` variable. \n",
    "\n",
    "The path to write the new relative vegetation data should be stored in `OUTPUT_DIR` and the main directory containing the ALFRESCO outputs (currently `/workspace/Shared/Tech_Projects/Alaska_IEM/project_data/Final_runs/IEM_AR5`) should be stored in the `BASE_DIR` environment variable. The `SCRATCH_DIR` variable should specify the path where a folder containing the `sbatch` scripts and slurm output scripts will be written.\n",
    "\n",
    "Any of these may be set in the code cell below as well. "
   ]
  },
  {
   "cell_type": "code",
   "execution_count": 2,
   "id": "e90dea55-59dd-4ccd-a495-f5394bafd69d",
   "metadata": {},
   "outputs": [
    {
     "name": "stdout",
     "output_type": "stream",
     "text": [
      "Base dir:  /workspace/Shared/Tech_Projects/Alaska_IEM/project_data/Final_runs/IEM_AR5\n",
      "Output dir:  /atlas_scratch/kmredilla/aalfresco\n",
      "Scratch dir:  /atlas_scratch/kmredilla/aalfresco\n"
     ]
    }
   ],
   "source": [
    "import os\n",
    "from pathlib import Path\n",
    "from itertools import product\n",
    "\n",
    "\n",
    "# user paramater, wipe slurm dir if True\n",
    "wipe_slurm = False\n",
    "\n",
    "# setup paths\n",
    "# set path to relative flammability script\n",
    "rel_veg_fp = Path(os.getenv(\"REL_VEG_SCRIPT_PATH\") or \"/workspace/UA/kmredilla/alfresco_postprocessing/bin/alfresco_relative_vegetation_change.py\")\n",
    "# thesse are also available on Poseidon currently but there could be some read savings \n",
    "base_dir = Path(os.getenv(\"BASE_DIR\") or \"/workspace/Shared/Tech_Projects/Alaska_IEM/project_data/Final_runs/IEM_AR5\")\n",
    "output_dir = Path(os.getenv(\"OUTPUT_DIR\") or \"/atlas_scratch/kmredilla/aalfresco\")\n",
    "scratch_dir = Path(os.getenv(\"SCRATCH_DIR\") or \"/atlas_scratch/kmredilla/aalfresco\")\n",
    "\n",
    "print(\"Base dir: \", base_dir)\n",
    "print(\"Output dir: \", output_dir)\n",
    "print(\"Scratch dir: \", scratch_dir)\n",
    "\n",
    "relveg_dir = output_dir.joinpath(\"relative_vegetation_change\")\n",
    "relveg_dir.mkdir(exist_ok=True, parents=True)\n",
    "# folder for slurm scripts in $SCRATCH\n",
    "slurm_dir = scratch_dir.joinpath(\"veg_slurm\")\n",
    "slurm_dir.mkdir(exist_ok=True, parents=True)\n",
    "if wipe_slurm:\n",
    "    _ = [fp.unlink() for fp in slurm_dir.glob(\"*vegetation*\")]"
   ]
  },
  {
   "cell_type": "markdown",
   "id": "881694ac-1215-4eaf-b336-21e0809c4d10",
   "metadata": {},
   "source": [
    "Define a function for writing the `sbatch` commands to `.slurm` scripts:"
   ]
  },
  {
   "cell_type": "code",
   "execution_count": 2,
   "id": "86368cc3-8d68-4b59-b72a-dcb6e5c390fd",
   "metadata": {
    "tags": []
   },
   "outputs": [],
   "source": [
    "def write_sbatch(ncpus, slurm_email, slurm_dir, ac_conda_env, relveg_fp, relveg_args):\n",
    "    \"\"\"Write the SBATCH `.slurm` scripts for each model/season regression\n",
    "    \n",
    "    Args:\n",
    "        ncpus (int): number of cpus to allocate per job\n",
    "        slurm_email (str): email address for sending slurm messages\n",
    "        slurm_dir (PosixPath): path to directory to write sbatch .slurm files\n",
    "        ac_conda_env (str): name of the conda env that has anaconda-project installed\n",
    "        relflam_fp (PosixPath): path to script for processing the relative flammability\n",
    "        relflam_args (dict): dictionary containing args for the relative flammability \n",
    "            processing script\n",
    "        \n",
    "    Returns:\n",
    "        filepath of `.slurm` script \n",
    "    \"\"\"\n",
    "    out_fp = relveg_args[\"out_fp\"]\n",
    "    head = (\n",
    "        \"#!/bin/sh\\n\"\n",
    "        + \"#SBATCH --nodes=1\\n\"\n",
    "        + f\"#SBATCH --cpus-per-task={ncpus}\\n\"\n",
    "        + \"#SBATCH --account=snap\\n\"\n",
    "        + \"#SBATCH --mail-type=FAIL\\n\"\n",
    "        + f\"#SBATCH --mail-user={slurm_email}\\n\"\n",
    "        + f\"#SBATCH --output={slurm_dir}/{out_fp.name.replace('.tif', '_slurm_%j.out')}\\n\"\n",
    "        + \"#SBATCH -p main\\n\\n\"\n",
    "    )\n",
    "    \n",
    "    args = (\n",
    "        # print start time\n",
    "        \"echo Start slurm && date\\n\"\n",
    "        # initialize shell to use conda, \n",
    "        'eval \"$(conda shell.bash hook)\"\\n'\n",
    "        # activate env with anaconda-project installed\n",
    "        f\"conda activate {ac_conda_env}\\n\"\n",
    "        # call the python regression script\n",
    "        f\"python {relveg_fp} \"\n",
    "        f\"-p {relveg_args['maps_dir']} \"\n",
    "        f\"-o {out_fp} \"\n",
    "        # just use the number of cores allocated for slurm\n",
    "        f\"-nc {ncpus} \"\n",
    "        f\"-by {relveg_args['begin_year']} \"\n",
    "        f\"-ey {relveg_args['end_year']}\"\n",
    "    )\n",
    "    \n",
    "    slurm_fp = slurm_dir.joinpath(out_fp.name.replace(\".tif\", \".slurm\"))\n",
    "    with open(slurm_fp, \"w\") as f:\n",
    "        f.write(head + args)\n",
    "\n",
    "    return slurm_fp"
   ]
  },
  {
   "cell_type": "markdown",
   "id": "e8cf2403-af04-48fa-8c2d-1ffa7b4adcb2",
   "metadata": {},
   "source": [
    "### Historical eras\n",
    "\n",
    "For the historical eras, need to execute a bit differently - since all models have identical outputs for this period, just need to run one model (any) and scenario (any)."
   ]
  },
  {
   "cell_type": "code",
   "execution_count": 8,
   "id": "36cdc87c-6b08-4d99-b317-bdd2b17c1df2",
   "metadata": {},
   "outputs": [],
   "source": [
    "def make_sbatch_scripts(relveg_args_list, ncpus, slurm_email, ac_conda_env, rel_veg_fp):\n",
    "    \"\"\"Create the sbatch scripts for each of the argument sets in relflam_args_list\"\"\"\n",
    "    slurm_fps = [\n",
    "        write_sbatch(\n",
    "            ncpus, slurm_email, slurm_dir, ac_conda_env, rel_veg_fp, args\n",
    "        ) \n",
    "        for args in relveg_args_list\n",
    "    ]\n",
    "\n",
    "    print(f\"{len(slurm_fps)} slurm scripts written to {slurm_dir}\")\n",
    "    \n",
    "    return slurm_fps"
   ]
  },
  {
   "cell_type": "markdown",
   "id": "86835193-82de-4099-ad63-8bd92dbd414f",
   "metadata": {},
   "source": [
    "Create the list of args for historical relative vegetation change jobs:"
   ]
  },
  {
   "cell_type": "code",
   "execution_count": 4,
   "id": "294d2243-d560-44a9-86b3-b6b882b7cf2c",
   "metadata": {},
   "outputs": [],
   "source": [
    "historical_eras = [\"1950-2008\"]\n",
    "historical_eras.extend([f\"19{i}0-19{i}9\" for i in range(5, 10)])\n",
    "historical_eras.append(\"2000-2008\")\n",
    "\n",
    "historical_models = [\"GFDL-CM3\"]\n",
    "historical_scenarios = [\"rcp45\"]\n",
    "\n",
    "historical_relveg_args_list = []\n",
    "for era, model, scenario in product(historical_eras, historical_models, historical_scenarios):\n",
    "    temp_out_fn = f\"alfresco_relative_vegetation_change_{era}_historical.tif\"\n",
    "    temp_maps_dir = base_dir.joinpath(f\"{model}_{scenario}/Maps\")\n",
    "    begin_year, end_year = era.split(\"-\")\n",
    "\n",
    "    # relative flammability script args\n",
    "    historical_relveg_args_list.append({\n",
    "        \"maps_dir\": temp_maps_dir,\n",
    "        \"out_fp\": relveg_dir.joinpath(temp_out_fn),\n",
    "        \"begin_year\": begin_year,\n",
    "        \"end_year\": end_year,\n",
    "    })"
   ]
  },
  {
   "cell_type": "markdown",
   "id": "a1700c7b-ffd1-4863-b901-051d2fb19143",
   "metadata": {},
   "source": [
    "Set the sbatch options for all jobs:"
   ]
  },
  {
   "cell_type": "code",
   "execution_count": 6,
   "id": "c8ff6270-ab6f-4b45-84e7-6b8067003d21",
   "metadata": {},
   "outputs": [],
   "source": [
    "# slurm args\n",
    "\n",
    "# number of cores\n",
    "ncpus = 32\n",
    "# slurm email\n",
    "slurm_email = \"kmredilla@alaska.edu\"\n",
    "# name of the conda env that has anaconda-project installed\n",
    "ac_conda_env = \"/home/UA/kmredilla/miniconda3/envs/py38\""
   ]
  },
  {
   "cell_type": "markdown",
   "id": "b5b72514-605b-4f8a-8237-01fe89b63114",
   "metadata": {},
   "source": [
    "Make the sbatch scripts:"
   ]
  },
  {
   "cell_type": "code",
   "execution_count": 10,
   "id": "3deb3070-3e38-476c-bdc3-d7655cdf5431",
   "metadata": {},
   "outputs": [
    {
     "name": "stdout",
     "output_type": "stream",
     "text": [
      "7 slurm scripts written to /atlas_scratch/kmredilla/aalfresco/veg_slurm\n",
      "alfresco_relative_vegetation_change_1950-2008_historical.slurm\n",
      "alfresco_relative_vegetation_change_1950-1959_historical.slurm\n",
      "alfresco_relative_vegetation_change_1960-1969_historical.slurm\n",
      "alfresco_relative_vegetation_change_1970-1979_historical.slurm\n",
      "alfresco_relative_vegetation_change_1980-1989_historical.slurm\n",
      "alfresco_relative_vegetation_change_1990-1999_historical.slurm\n",
      "alfresco_relative_vegetation_change_2000-2008_historical.slurm\n"
     ]
    }
   ],
   "source": [
    "historical_slurm_fps = make_sbatch_scripts(historical_relveg_args_list, ncpus, slurm_email, ac_conda_env, rel_veg_fp)\n",
    "_ = [print(fp.name) for fp in historical_slurm_fps]"
   ]
  },
  {
   "cell_type": "markdown",
   "id": "a0caadbb-f7ac-487d-a3bb-b22c0286a01a",
   "metadata": {},
   "source": [
    "### Future eras\n",
    "\n",
    "For future eras, doing all combinations of model / scenario / era. Setup the args:"
   ]
  },
  {
   "cell_type": "code",
   "execution_count": 63,
   "id": "b000b667-a25e-47cd-8362-6d42b2a22f86",
   "metadata": {},
   "outputs": [],
   "source": [
    "# iterate over remaining model / scenario / periods and setup args for processing\n",
    "eras = [f\"20{i}0-20{i}9\" for i in range(1, 10)]\n",
    "models = [\"GFDL-CM3\", \"NCAR-CCSM4\", \"GISS-E2-R\", \"IPSL-CM5A-LR\", \"MRI-CGCM3\"]\n",
    "scenarios = [\"rcp45\", \"rcp60\", \"rcp85\"]\n",
    "\n",
    "relveg_args_list = []\n",
    "for era, model, scenario in product(eras, models, scenarios):\n",
    "    temp_out_fn = f\"alfresco_relative_vegetation_change_{era}_{model}_{scenario}.tif\"\n",
    "    temp_maps_dir = base_dir.joinpath(f\"{model}_{scenario}/Maps\")\n",
    "    begin_year, end_year = era.split(\"-\")\n",
    "    \n",
    "    # relative flammability script args\n",
    "    relveg_args_list.append({\n",
    "        \"maps_dir\": temp_maps_dir,\n",
    "        \"out_fp\": relveg_dir.joinpath(temp_out_fn),\n",
    "        \"begin_year\": begin_year,\n",
    "        \"end_year\": end_year,\n",
    "    })"
   ]
  },
  {
   "cell_type": "code",
   "execution_count": 44,
   "id": "79201467-12ad-4daa-bba4-ba6ade4f049f",
   "metadata": {},
   "outputs": [
    {
     "name": "stdout",
     "output_type": "stream",
     "text": [
      "135 slurm scripts written to /atlas_scratch/kmredilla/aalfresco/veg_slurm\n",
      "alfresco_relative_vegetation_change_2010-2019_GFDL-CM3_rcp45.slurm\n",
      "alfresco_relative_vegetation_change_2010-2019_GFDL-CM3_rcp60.slurm\n",
      "alfresco_relative_vegetation_change_2010-2019_GFDL-CM3_rcp85.slurm\n",
      "alfresco_relative_vegetation_change_2010-2019_NCAR-CCSM4_rcp45.slurm\n",
      "alfresco_relative_vegetation_change_2010-2019_NCAR-CCSM4_rcp60.slurm\n",
      "alfresco_relative_vegetation_change_2010-2019_NCAR-CCSM4_rcp85.slurm\n",
      "alfresco_relative_vegetation_change_2010-2019_GISS-E2-R_rcp45.slurm\n",
      "alfresco_relative_vegetation_change_2010-2019_GISS-E2-R_rcp60.slurm\n",
      "alfresco_relative_vegetation_change_2010-2019_GISS-E2-R_rcp85.slurm\n",
      "alfresco_relative_vegetation_change_2010-2019_IPSL-CM5A-LR_rcp45.slurm\n"
     ]
    }
   ],
   "source": [
    "slurm_fps = make_sbatch_scripts(relveg_args_list, ncpus, slurm_email, ac_conda_env, rel_veg_fp)\n",
    "_ = [print(fp.name) for fp in slurm_fps[:10]]"
   ]
  },
  {
   "cell_type": "markdown",
   "id": "a8eb36be-2be6-4b57-a577-1ec630333f32",
   "metadata": {},
   "source": [
    "### Submit all sbatch scripts\n",
    "\n",
    "Submit all historical and future sbatch scripts:"
   ]
  },
  {
   "cell_type": "code",
   "execution_count": 14,
   "id": "663688ad-dde9-40ef-b7cb-9fe7b1691154",
   "metadata": {
    "tags": []
   },
   "outputs": [],
   "source": [
    "# Call the slurm scripts with the `sbatch` command\n",
    "_ = [os.system(f\"sbatch {fp}\") for fp in slurm_fps + historical_slurm_fps]"
   ]
  },
  {
   "cell_type": "markdown",
   "id": "3ac96131-b62e-48e1-9731-f5ac3ccf1879",
   "metadata": {},
   "source": [
    "## Compute 5 model averages\n",
    "\n",
    "Compute 5 model averages for all new future data."
   ]
  },
  {
   "cell_type": "code",
   "execution_count": 4,
   "id": "e4c10177-1fc8-4d8b-adbf-d4dcb3f6cd2b",
   "metadata": {},
   "outputs": [],
   "source": [
    "import rasterio as rio\n",
    "import numpy as np\n",
    "from tqdm.notebook import tqdm_notebook"
   ]
  },
  {
   "cell_type": "code",
   "execution_count": 64,
   "id": "d1885f03-9104-4cef-8292-c5e355cc8771",
   "metadata": {},
   "outputs": [],
   "source": [
    "# get rasterio file metadata and mask from any complete file\n",
    "relveg_fps = list(relveg_dir.glob(\"*\"))\n",
    "with rio.open(relveg_fps[0]) as src:\n",
    "    meta = src.meta.copy()\n",
    "    mask = src.read(1) == -9999\n",
    "meta.update(compress='lzw')"
   ]
  },
  {
   "cell_type": "code",
   "execution_count": 5,
   "id": "8b8b4141-67bb-44d1-b018-c3c568941799",
   "metadata": {},
   "outputs": [],
   "source": [
    "# setup helper function for reading data from a tif\n",
    "def read_tif(fp):\n",
    "    with rio.open(fp) as src:\n",
    "        arr = src.read(1)\n",
    "    return arr"
   ]
  },
  {
   "cell_type": "code",
   "execution_count": 65,
   "id": "731ee015-4c49-4fd0-8489-89e7a9064259",
   "metadata": {},
   "outputs": [
    {
     "data": {
      "application/vnd.jupyter.widget-view+json": {
       "model_id": "34c99f2260184920abeb67ed12f7f5f3",
       "version_major": 2,
       "version_minor": 0
      },
      "text/plain": [
       "  0%|          | 0/27 [00:00<?, ?it/s]"
      ]
     },
     "metadata": {},
     "output_type": "display_data"
    },
    {
     "name": "stdout",
     "output_type": "stream",
     "text": [
      "27 5 model average files written to /atlas_scratch/kmredilla/aalfresco/relative_vegetation_change.\n",
      "alfresco_relative_vegetation_change_2010-2019_5modelAvg_rcp45.tif\n",
      "alfresco_relative_vegetation_change_2010-2019_5modelAvg_rcp60.tif\n",
      "alfresco_relative_vegetation_change_2010-2019_5modelAvg_rcp85.tif\n",
      "alfresco_relative_vegetation_change_2020-2029_5modelAvg_rcp45.tif\n",
      "alfresco_relative_vegetation_change_2020-2029_5modelAvg_rcp60.tif\n",
      "alfresco_relative_vegetation_change_2020-2029_5modelAvg_rcp85.tif\n",
      "alfresco_relative_vegetation_change_2030-2039_5modelAvg_rcp45.tif\n",
      "alfresco_relative_vegetation_change_2030-2039_5modelAvg_rcp60.tif\n",
      "alfresco_relative_vegetation_change_2030-2039_5modelAvg_rcp85.tif\n",
      "alfresco_relative_vegetation_change_2040-2049_5modelAvg_rcp45.tif\n"
     ]
    }
   ],
   "source": [
    "# iterate over eras, scenarios and average over models and save new rasters\n",
    "mean_fps = []\n",
    "avg_groups = list(product(eras, scenarios))\n",
    "for era, scenario in tqdm_notebook(avg_groups):\n",
    "    temp_fps = sorted(list(relveg_dir.glob(f\"*{era}*{scenario}*.tif\")))\n",
    "    arrs = [read_tif(fp) for fp in temp_fps]\n",
    "    mean_arr = np.round(np.array(arrs).mean(axis=0).astype(np.float32), 4)\n",
    "    # sorted list will return GFDL-CM3 data as first file\n",
    "    temp_fn = temp_fps[0].name.replace(\"GFDL-CM3\", \"5modelAvg\")\n",
    "    temp_out_fp = relveg_dir.joinpath(temp_fn)\n",
    "    mean_fps.append(temp_out_fp)\n",
    "    with rio.open(temp_out_fp, \"w\", **meta) as dst:\n",
    "        dst.write(mean_arr, 1)\n",
    "\n",
    "print(f\"{len(mean_fps)} 5 model average files written to {relveg_dir}.\")\n",
    "_ = [print(fp.name) for fp in sorted(list(relveg_dir.glob(\"*5modelAvg*\")))[:10]]"
   ]
  },
  {
   "cell_type": "markdown",
   "id": "f01ee0dc-7d42-4ca1-b3d8-d9f7fa535f0f",
   "metadata": {},
   "source": [
    "## Add non-modeled pixels to nodata mask\n",
    "\n",
    "Some of the pixels are not modeled and the way that the post-processing scripts compute the summaries assigns these pixels a seemingly-valid data value of 0. These should be masked to nodata, and we will do that here instead of modifying the postprocessing scripts.\n",
    "\n",
    "**Note** - this will modify the outputs from the above processing in place!"
   ]
  },
  {
   "cell_type": "markdown",
   "id": "7188fadc-b142-4858-ad12-4e3ad29abaca",
   "metadata": {},
   "source": [
    "Get a mask of 0-valued cells in the vegetation data. A value of 0 corresponds to non-modeled."
   ]
  },
  {
   "cell_type": "code",
   "execution_count": 1,
   "id": "d68bdb4f-841e-40af-a67a-4fe1e30e22bf",
   "metadata": {},
   "outputs": [],
   "source": [
    "import tqdm\n",
    "from multiprocessing import Pool\n",
    "import matplotlib.pyplot as plt\n",
    "from rasterio.plot import show"
   ]
  },
  {
   "cell_type": "code",
   "execution_count": 6,
   "id": "0dbaab3e-ac7f-430a-a771-008c3c3c8107",
   "metadata": {},
   "outputs": [],
   "source": [
    "# veg output file for deriving new mask from \n",
    "veg_fp = list(base_dir.glob(\"GFDL-CM3_rcp45/Maps/1901/Veg*.tif\"))[0]\n",
    "# get mask from any veg file and include 0 as masking value\n",
    "with rio.open(veg_fp) as src:\n",
    "    arr = src.read(1)\n",
    "mask = (arr == 255) | (arr == 0)"
   ]
  },
  {
   "cell_type": "markdown",
   "id": "80577b35-cb01-4831-bf0a-aea3f0bbe3b3",
   "metadata": {},
   "source": [
    "Re-mask the data in parallel:"
   ]
  },
  {
   "cell_type": "code",
   "execution_count": 7,
   "id": "fdfe2194-f0ac-4330-b2b9-555b1ad106bc",
   "metadata": {},
   "outputs": [],
   "source": [
    "def mask_tif(args):\n",
    "    fp, mask = args\n",
    "    with rio.open(fp, \"r+\") as src:\n",
    "        arr = src.read(1)\n",
    "        arr[mask] = -9999\n",
    "        src.write(arr, 1)"
   ]
  },
  {
   "cell_type": "code",
   "execution_count": 8,
   "id": "877d9b0b-0da5-46e0-a34a-97fd62fc23d4",
   "metadata": {},
   "outputs": [
    {
     "name": "stderr",
     "output_type": "stream",
     "text": [
      "100%|███████████████████████████████████████████████████████████████████████████████████████████████████████████████████████████████████████████████████████████████████████████████████████████████| 169/169 [00:03<00:00, 46.30it/s]\n"
     ]
    }
   ],
   "source": [
    "args = [(fp, mask) for fp in relveg_dir.glob(\"*.tif\")]\n",
    "with Pool(32) as pool:\n",
    "    _ = [result for result in tqdm.tqdm(pool.imap_unordered(mask_tif, args), total=len(args))]"
   ]
  },
  {
   "cell_type": "markdown",
   "id": "3ee90cc9-b0e0-402c-91a0-f9a78879e0c8",
   "metadata": {},
   "source": [
    "Check some results:"
   ]
  },
  {
   "cell_type": "code",
   "execution_count": 9,
   "id": "e18e32b1-90e8-497e-9e50-951b657fd19f",
   "metadata": {},
   "outputs": [
    {
     "name": "stdout",
     "output_type": "stream",
     "text": [
      "File: /atlas_scratch/kmredilla/aalfresco/relative_vegetation_change/alfresco_relative_vegetation_change_2040-2049_5modelAvg_rcp60.tif\n"
     ]
    },
    {
     "data": {
      "image/png": "[encoded data removed]",
      "text/plain": [
       "<Figure size 432x288 with 1 Axes>"
      ]
     },
     "metadata": {
      "needs_background": "light"
     },
     "output_type": "display_data"
    }
   ],
   "source": [
    "fp = args[np.random.randint(len(args))][0]\n",
    "print(f\"File: {fp}\")\n",
    "with rio.open(fp) as src:\n",
    "    show(src)"
   ]
  },
  {
   "cell_type": "code",
   "execution_count": 10,
   "id": "b955e7ba-8e3e-4023-a1b2-7bc79ff6c2d4",
   "metadata": {},
   "outputs": [
    {
     "name": "stdout",
     "output_type": "stream",
     "text": [
      "File: /atlas_scratch/kmredilla/aalfresco/relative_vegetation_change/alfresco_relative_vegetation_change_2070-2079_GISS-E2-R_rcp45.tif\n"
     ]
    },
    {
     "data": {
      "image/png": "[encoded data removed]",
      "text/plain": [
       "<Figure size 432x288 with 1 Axes>"
      ]
     },
     "metadata": {
      "needs_background": "light"
     },
     "output_type": "display_data"
    }
   ],
   "source": [
    "fp = args[np.random.randint(len(args))][0]\n",
    "print(f\"File: {fp}\")\n",
    "with rio.open(fp) as src:\n",
    "    show(src)"
   ]
  },
  {
   "cell_type": "markdown",
   "id": "3e8180e6-2e98-4306-aab3-17240727ee25",
   "metadata": {},
   "source": [
    "Looks good."
   ]
  },
  {
   "cell_type": "markdown",
   "id": "6003f501-6087-4679-aa77-e2abcf816092",
   "metadata": {},
   "source": [
    "## Package files for rasdaman\n",
    "\n",
    "Split the files up for ingestion into two different (historical and future) rasdaman coverages:"
   ]
  },
  {
   "cell_type": "code",
   "execution_count": 11,
   "id": "a482c7e1-5db3-4c51-9de1-2de051d7fe35",
   "metadata": {},
   "outputs": [],
   "source": [
    "!mkdir -p /atlas_scratch/kmredilla/aalfresco/historical_relative_vegetation_change\n",
    "!cp /atlas_scratch/kmredilla/aalfresco/relative_vegetation_change/*historical* /atlas_scratch/kmredilla/aalfresco/historical_relative_vegetation_change"
   ]
  },
  {
   "cell_type": "code",
   "execution_count": 12,
   "id": "f0669b97-06ef-43df-8603-fc61ad4a96f0",
   "metadata": {},
   "outputs": [
    {
     "name": "stdout",
     "output_type": "stream",
     "text": [
      "total 45928\n",
      "-rw-r--r--. 1 kmredilla snap_users 6067970 Feb 18 10:33 \u001b[0m\u001b[01;35malfresco_relative_vegetation_change_1950-1959_historical.tif\u001b[0m\u001b[K\n",
      "-rw-r--r--. 1 kmredilla snap_users 8512558 Feb 18 10:33 \u001b[01;35malfresco_relative_vegetation_change_1950-2008_historical.tif\u001b[0m\u001b[K\n",
      "-rw-r--r--. 1 kmredilla snap_users 6192421 Feb 18 10:33 \u001b[01;35malfresco_relative_vegetation_change_1960-1969_historical.tif\u001b[0m\u001b[K\n",
      "-rw-r--r--. 1 kmredilla snap_users 6278902 Feb 18 10:33 \u001b[01;35malfresco_relative_vegetation_change_1970-1979_historical.tif\u001b[0m\u001b[K\n",
      "-rw-r--r--. 1 kmredilla snap_users 6212386 Feb 18 10:33 \u001b[01;35malfresco_relative_vegetation_change_1980-1989_historical.tif\u001b[0m\u001b[K\n",
      "-rw-r--r--. 1 kmredilla snap_users 6741961 Feb 18 10:33 \u001b[01;35malfresco_relative_vegetation_change_1990-1999_historical.tif\u001b[0m\u001b[K\n",
      "-rw-r--r--. 1 kmredilla snap_users 7015734 Feb 18 10:33 \u001b[01;35malfresco_relative_vegetation_change_2000-2008_historical.tif\u001b[0m\u001b[K\n"
     ]
    }
   ],
   "source": [
    "ls -l /atlas_scratch/kmredilla/aalfresco/historical_relative_vegetation_change"
   ]
  },
  {
   "cell_type": "code",
   "execution_count": 13,
   "id": "60168cb4-4c04-4abb-a6a5-38eed34ac178",
   "metadata": {},
   "outputs": [],
   "source": [
    "rm /atlas_scratch/kmredilla/aalfresco/historical_relative_vegetation_change.zip"
   ]
  },
  {
   "cell_type": "code",
   "execution_count": 14,
   "id": "f7e21d63-3b16-431c-a54f-be3891b359cc",
   "metadata": {
    "tags": []
   },
   "outputs": [
    {
     "name": "stdout",
     "output_type": "stream",
     "text": [
      "  adding: historical_relative_vegetation_change/ (stored 0%)\n",
      "  adding: historical_relative_vegetation_change/alfresco_relative_vegetation_change_1950-1959_historical.tif (deflated 21%)\n",
      "  adding: historical_relative_vegetation_change/alfresco_relative_vegetation_change_1950-2008_historical.tif (deflated 15%)\n",
      "  adding: historical_relative_vegetation_change/alfresco_relative_vegetation_change_1960-1969_historical.tif (deflated 18%)\n",
      "  adding: historical_relative_vegetation_change/alfresco_relative_vegetation_change_1970-1979_historical.tif (deflated 18%)\n",
      "  adding: historical_relative_vegetation_change/alfresco_relative_vegetation_change_1980-1989_historical.tif (deflated 18%)\n",
      "  adding: historical_relative_vegetation_change/alfresco_relative_vegetation_change_1990-1999_historical.tif (deflated 17%)\n",
      "  adding: historical_relative_vegetation_change/alfresco_relative_vegetation_change_2000-2008_historical.tif (deflated 17%)\n"
     ]
    }
   ],
   "source": [
    "!cd /atlas_scratch/kmredilla/aalfresco/ && zip -r historical_relative_vegetation_change.zip historical_relative_vegetation_change"
   ]
  },
  {
   "cell_type": "code",
   "execution_count": 15,
   "id": "a6e2d89f-8453-47c5-9291-5f867f5eae9e",
   "metadata": {},
   "outputs": [],
   "source": [
    "!mkdir -p /atlas_scratch/kmredilla/aalfresco/future_relative_vegetation_change\n",
    "!cp /atlas_scratch/kmredilla/aalfresco/relative_vegetation_change/*rcp* /atlas_scratch/kmredilla/aalfresco/future_relative_vegetation_change"
   ]
  },
  {
   "cell_type": "code",
   "execution_count": 16,
   "id": "7bc98d4c-9602-4e7b-9234-4da90bc75009",
   "metadata": {},
   "outputs": [
    {
     "name": "stdout",
     "output_type": "stream",
     "text": [
      "alfresco_relative_vegetation_change_2010-2019_5modelAvg_rcp45.tif\n",
      "alfresco_relative_vegetation_change_2010-2019_5modelAvg_rcp60.tif\n",
      "alfresco_relative_vegetation_change_2010-2019_5modelAvg_rcp85.tif\n",
      "alfresco_relative_vegetation_change_2010-2019_GFDL-CM3_rcp45.tif\n",
      "alfresco_relative_vegetation_change_2010-2019_GFDL-CM3_rcp60.tif\n"
     ]
    }
   ],
   "source": [
    "!ls /atlas_scratch/kmredilla/aalfresco/future_relative_vegetation_change | head -5"
   ]
  },
  {
   "cell_type": "code",
   "execution_count": 17,
   "id": "aab413d9-fa1b-4e87-aeae-95b019de2cbb",
   "metadata": {},
   "outputs": [],
   "source": [
    "rm /atlas_scratch/kmredilla/aalfresco/future_relative_vegetation_change.zip"
   ]
  },
  {
   "cell_type": "code",
   "execution_count": 19,
   "id": "f220139f-3bf0-43bf-aaea-3c5aa8888c8a",
   "metadata": {
    "tags": []
   },
   "outputs": [],
   "source": [
    "!cd /atlas_scratch/kmredilla/aalfresco/ && zip -r future_relative_vegetation_change.zip future_relative_vegetation_change"
   ]
  }
 ],
 "metadata": {
  "kernelspec": {
   "display_name": "Python 3 (ipykernel)",
   "language": "python",
   "name": "python3"
  },
  "language_info": {
   "codemirror_mode": {
    "name": "ipython",
    "version": 3
   },
   "file_extension": ".py",
   "mimetype": "text/x-python",
   "name": "python",
   "nbconvert_exporter": "python",
   "pygments_lexer": "ipython3",
   "version": "3.8.10"
  }
 },
 "nbformat": 4,
 "nbformat_minor": 5
}
