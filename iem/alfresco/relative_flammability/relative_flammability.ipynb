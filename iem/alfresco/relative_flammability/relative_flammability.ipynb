{
 "cells": [
  {
   "cell_type": "markdown",
   "id": "54d23cf2-6673-4d7a-b929-180e5c2e526e",
   "metadata": {},
   "source": [
    "# Run relative flammability for CMIP5 ALFRESCO outputs\n",
    "\n",
    "This notebooks orchestrates the computation of relative flammability using the `https://github.com/ua-snap/alfresco_postprocessing/bin/alfresco_relative_flammability.py` script and slurm.\n",
    "\n",
    "To run this processing, that script must be present on the system and the path to it should be stored in the `REL_FLAM_SCRIPT_PATH` variable. \n",
    "\n",
    "The path to write the new relative flammability data should be stored in `OUTPUT_DIR` and the main directory containing the ALFRESCO outputs (typically a subfolder named `FMO_Calibrated/`) should be stored in the `BASE_DIR` environment variable. The `SCRATCH_DIR` variable can be used to specify the path for the `sbatch` scripts and slurm output scripts, but this defaults to \n",
    "\n",
    "Any of these may be set in the code cell below as well. "
   ]
  },
  {
   "cell_type": "code",
   "execution_count": 1,
   "id": "e90dea55-59dd-4ccd-a495-f5394bafd69d",
   "metadata": {},
   "outputs": [
    {
     "name": "stdout",
     "output_type": "stream",
     "text": [
      "Base dir:  /workspace/Shared/Tech_Projects/Alaska_IEM/project_data/Final_runs/IEM_AR5\n",
      "Output dir:  /atlas_scratch/kmredilla/aalfresco\n",
      "Scratch dir:  /atlas_scratch/kmredilla/aalfresco\n"
     ]
    }
   ],
   "source": [
    "import os\n",
    "from pathlib import Path\n",
    "from itertools import product\n",
    "\n",
    "\n",
    "# user paramater, wipe slurm dir if True\n",
    "wipe_slurm = False\n",
    "\n",
    "# setup paths\n",
    "# set path to relative flammability script\n",
    "relflam_fp = Path(os.getenv(\"REL_FLAM_SCRIPT_PATH\") or \"/workspace/UA/kmredilla/alfresco_postprocessing/bin/alfresco_relative_flammability.py\")\n",
    "# thesse are also available on Poseidon currently but there could be some read savings \n",
    "base_dir = Path(os.getenv(\"BASE_DIR\") or \"/workspace/Shared/Tech_Projects/Alaska_IEM/project_data/Final_runs/IEM_AR5\")\n",
    "output_dir = Path(os.getenv(\"OUTPUT_DIR\") or \"/atlas_scratch/kmredilla/aalfresco\")\n",
    "scratch_dir = Path(os.getenv(\"SCRATCH_DIR\") or \"/atlas_scratch/kmredilla/aalfresco\")\n",
    "\n",
    "print(\"Base dir: \", base_dir)\n",
    "print(\"Output dir: \", output_dir)\n",
    "print(\"Scratch dir: \", scratch_dir)\n",
    "\n",
    "relflam_dir = output_dir.joinpath(\"relative_flammability\")\n",
    "relflam_dir.mkdir(exist_ok=True, parents=True)\n",
    "relveg_dir = output_dir.joinpath(\"relative_vegetation_change\")\n",
    "relveg_dir.mkdir(exist_ok=True, parents=True)\n",
    "# folder for slurm scripts in $SCRATCH\n",
    "slurm_dir = scratch_dir.joinpath(\"slurm\")\n",
    "slurm_dir.mkdir(exist_ok=True, parents=True)\n",
    "if wipe_slurm:\n",
    "    _ = [fp.unlink() for fp in slurm_dir.glob(\"*\")]"
   ]
  },
  {
   "cell_type": "markdown",
   "id": "881694ac-1215-4eaf-b336-21e0809c4d10",
   "metadata": {},
   "source": [
    "Define a function for writing the `sbatch` commands to `.slurm` scripts:"
   ]
  },
  {
   "cell_type": "code",
   "execution_count": 2,
   "id": "86368cc3-8d68-4b59-b72a-dcb6e5c390fd",
   "metadata": {
    "tags": []
   },
   "outputs": [],
   "source": [
    "def write_sbatch(ncpus, slurm_email, slurm_dir, ac_conda_env, relflam_fp, relflam_args):\n",
    "    \"\"\"Write the SBATCH `.slurm` scripts for each model/season regression\n",
    "    \n",
    "    Args:\n",
    "        ncpus (int): number of cpus to allocate per job\n",
    "        slurm_email (str): email address for sending slurm messages\n",
    "        slurm_dir (PosixPath): path to directory to write sbatch .slurm files\n",
    "        ac_conda_env (str): name of the conda env that has anaconda-project installed\n",
    "        relflam_fp (PosixPath): path to script for processing the relative flammability\n",
    "        relflam_args (dict): dictionary containing args for the relative flammability \n",
    "            processing script\n",
    "        \n",
    "    Returns:\n",
    "        filepath of `.slurm` script \n",
    "    \"\"\"\n",
    "    out_fp = relflam_args[\"out_fp\"]\n",
    "    head = (\n",
    "        \"#!/bin/sh\\n\"\n",
    "        + \"#SBATCH --nodes=1\\n\"\n",
    "        + f\"#SBATCH --cpus-per-task={ncpus}\\n\"\n",
    "        + \"#SBATCH --account=snap\\n\"\n",
    "        + \"#SBATCH --mail-type=FAIL\\n\"\n",
    "        + f\"#SBATCH --mail-user={slurm_email}\\n\"\n",
    "        + f\"#SBATCH --output={slurm_dir}/{out_fp.name.replace('.tif', '_slurm_%j.out')}\\n\"\n",
    "        + \"#SBATCH -p main\\n\\n\"\n",
    "    )\n",
    "    \n",
    "    args = (\n",
    "        # print start time\n",
    "        \"echo Start slurm && date\\n\"\n",
    "        # initialize shell to use conda, \n",
    "        'eval \"$(conda shell.bash hook)\"\\n'\n",
    "        # activate env with anaconda-project installed\n",
    "        f\"conda activate {ac_conda_env}\\n\"\n",
    "        # call the python regression script\n",
    "        f\"python {relflam_fp} \"\n",
    "        f\"-p {relflam_args['maps_dir']} \"\n",
    "        f\"-o {out_fp} \"\n",
    "        # just use the number of cores allocated for slurm\n",
    "        f\"-nc {ncpus} \"\n",
    "        f\"-by {relflam_args['begin_year']} \"\n",
    "        f\"-ey {relflam_args['end_year']}\"\n",
    "    )\n",
    "    \n",
    "    slurm_fp = slurm_dir.joinpath(out_fp.name.replace(\".tif\", \".slurm\"))\n",
    "    with open(slurm_fp, \"w\") as f:\n",
    "        f.write(head + args)\n",
    "\n",
    "    return slurm_fp"
   ]
  },
  {
   "cell_type": "markdown",
   "id": "e8cf2403-af04-48fa-8c2d-1ffa7b4adcb2",
   "metadata": {},
   "source": [
    "### Historical eras\n",
    "\n",
    "For the historical eras, need to execute a bit differently - since all models have identical outputs for this period, just need to run one model (any) and scenario (any)."
   ]
  },
  {
   "cell_type": "code",
   "execution_count": 3,
   "id": "36cdc87c-6b08-4d99-b317-bdd2b17c1df2",
   "metadata": {},
   "outputs": [],
   "source": [
    "def make_sbatch_scripts(relflam_args_list, ncpus, slurm_email, ac_conda_env, relflam_fp):\n",
    "    \"\"\"Create the sbatch scripts for each of the argument sets in relflam_args_list\"\"\"\n",
    "    slurm_fps = [\n",
    "        write_sbatch(\n",
    "            ncpus, slurm_email, slurm_dir, ac_conda_env, relflam_fp, args\n",
    "        ) \n",
    "        for args in relflam_args_list\n",
    "    ]\n",
    "\n",
    "    print(f\"{len(slurm_fps)} slurm scripts written to {slurm_dir}\")\n",
    "    \n",
    "    return slurm_fps"
   ]
  },
  {
   "cell_type": "markdown",
   "id": "86835193-82de-4099-ad63-8bd92dbd414f",
   "metadata": {},
   "source": [
    "Create the list of args for historical relative flammability jobs:"
   ]
  },
  {
   "cell_type": "code",
   "execution_count": 7,
   "id": "294d2243-d560-44a9-86b3-b6b882b7cf2c",
   "metadata": {},
   "outputs": [],
   "source": [
    "historical_eras = [\"1950-2008\"]\n",
    "historical_eras.extend([f\"19{i}0-19{i}9\" for i in range(5, 10)])\n",
    "historical_eras.append(\"2000-2008\")\n",
    "\n",
    "historical_models = [\"GFDL-CM3\"]\n",
    "historical_scenarios = [\"rcp45\"]\n",
    "\n",
    "historical_relflam_args_list = []\n",
    "for era, model, scenario in product(historical_eras, historical_models, historical_scenarios):\n",
    "    temp_out_fn = f\"alfresco_relative_flammability_{era}_historical.tif\"\n",
    "    temp_maps_dir = base_dir.joinpath(f\"{model}_{scenario}/Maps\")\n",
    "    begin_year, end_year = era.split(\"-\")\n",
    "\n",
    "    # relative flammability script args\n",
    "    historical_relflam_args_list.append({\n",
    "        \"maps_dir\": temp_maps_dir,\n",
    "        \"out_fp\": relflam_dir.joinpath(temp_out_fn),\n",
    "        \"begin_year\": begin_year,\n",
    "        \"end_year\": end_year,\n",
    "    })"
   ]
  },
  {
   "cell_type": "markdown",
   "id": "a1700c7b-ffd1-4863-b901-051d2fb19143",
   "metadata": {},
   "source": [
    "Set the sbatch options for all jobs:"
   ]
  },
  {
   "cell_type": "code",
   "execution_count": 5,
   "id": "c8ff6270-ab6f-4b45-84e7-6b8067003d21",
   "metadata": {},
   "outputs": [],
   "source": [
    "# slurm args\n",
    "\n",
    "# number of cores\n",
    "ncpus = 32\n",
    "# slurm email\n",
    "slurm_email = \"kmredilla@alaska.edu\"\n",
    "# name of the conda env that has anaconda-project installed\n",
    "ac_conda_env = \"/home/UA/kmredilla/miniconda3/envs/py38\""
   ]
  },
  {
   "cell_type": "markdown",
   "id": "b5b72514-605b-4f8a-8237-01fe89b63114",
   "metadata": {},
   "source": [
    "Make the sbatch scripts:"
   ]
  },
  {
   "cell_type": "code",
   "execution_count": 8,
   "id": "3deb3070-3e38-476c-bdc3-d7655cdf5431",
   "metadata": {},
   "outputs": [
    {
     "name": "stdout",
     "output_type": "stream",
     "text": [
      "7 slurm scripts written to /atlas_scratch/kmredilla/aalfresco/slurm\n",
      "alfresco_relative_flammability_1950-2008_historical.slurm\n",
      "alfresco_relative_flammability_1950-1959_historical.slurm\n",
      "alfresco_relative_flammability_1960-1969_historical.slurm\n",
      "alfresco_relative_flammability_1970-1979_historical.slurm\n",
      "alfresco_relative_flammability_1980-1989_historical.slurm\n",
      "alfresco_relative_flammability_1990-1999_historical.slurm\n",
      "alfresco_relative_flammability_2000-2008_historical.slurm\n"
     ]
    }
   ],
   "source": [
    "historical_slurm_fps = make_sbatch_scripts(historical_relflam_args_list, ncpus, slurm_email, ac_conda_env, relflam_fp)\n",
    "_ = [print(fp.name) for fp in historical_slurm_fps]"
   ]
  },
  {
   "cell_type": "markdown",
   "id": "a0caadbb-f7ac-487d-a3bb-b22c0286a01a",
   "metadata": {},
   "source": [
    "### Future eras\n",
    "\n",
    "For future eras, doing all combinations of model / scenario / era. Setup the args:"
   ]
  },
  {
   "cell_type": "code",
   "execution_count": 6,
   "id": "b000b667-a25e-47cd-8362-6d42b2a22f86",
   "metadata": {},
   "outputs": [],
   "source": [
    "# iterate over remaining model / scenario / periods and setup args for processing\n",
    "eras = [f\"20{i}0-20{i}9\" for i in range(1, 10)]\n",
    "models = [\"GFDL-CM3\", \"NCAR-CCSM4\", \"GISS-E2-R\", \"IPSL-CM5A-LR\", \"MRI-CGCM3\"]\n",
    "scenarios = [\"rcp45\", \"rcp60\", \"rcp85\"]\n",
    "\n",
    "relflam_args_list = []\n",
    "for era, model, scenario in product(eras, models, scenarios):\n",
    "    temp_out_fn = f\"alfresco_relative_flammability_{era}_{model}_{scenario}.tif\"\n",
    "    temp_maps_dir = base_dir.joinpath(f\"{model}_{scenario}/Maps\")\n",
    "    begin_year, end_year = era.split(\"-\")\n",
    "    \n",
    "    # relative flammability script args\n",
    "    relflam_args_list.append({\n",
    "        \"maps_dir\": temp_maps_dir,\n",
    "        \"out_fp\": relflam_dir.joinpath(temp_out_fn),\n",
    "        \"begin_year\": begin_year,\n",
    "        \"end_year\": end_year,\n",
    "    })"
   ]
  },
  {
   "cell_type": "code",
   "execution_count": 10,
   "id": "79201467-12ad-4daa-bba4-ba6ade4f049f",
   "metadata": {},
   "outputs": [
    {
     "name": "stdout",
     "output_type": "stream",
     "text": [
      "135 slurm scripts written to /atlas_scratch/kmredilla/aalfresco/slurm\n",
      "alfresco_relative_flammability_2010-2019_GFDL-CM3_rcp45.slurm\n",
      "alfresco_relative_flammability_2010-2019_GFDL-CM3_rcp60.slurm\n",
      "alfresco_relative_flammability_2010-2019_GFDL-CM3_rcp85.slurm\n",
      "alfresco_relative_flammability_2010-2019_NCAR-CCSM4_rcp45.slurm\n",
      "alfresco_relative_flammability_2010-2019_NCAR-CCSM4_rcp60.slurm\n",
      "alfresco_relative_flammability_2010-2019_NCAR-CCSM4_rcp85.slurm\n",
      "alfresco_relative_flammability_2010-2019_GISS-E2-R_rcp45.slurm\n",
      "alfresco_relative_flammability_2010-2019_GISS-E2-R_rcp60.slurm\n",
      "alfresco_relative_flammability_2010-2019_GISS-E2-R_rcp85.slurm\n",
      "alfresco_relative_flammability_2010-2019_IPSL-CM5A-LR_rcp45.slurm\n"
     ]
    }
   ],
   "source": [
    "slurm_fps = make_sbatch_scripts(relflam_args_list, ncpus, slurm_email, ac_conda_env, relflam_fp)\n",
    "_ = [print(fp.name) for fp in slurm_fps[:10]]"
   ]
  },
  {
   "cell_type": "markdown",
   "id": "a8eb36be-2be6-4b57-a577-1ec630333f32",
   "metadata": {},
   "source": [
    "### Submit all sbatch scripts\n",
    "\n",
    "Submit all historical and future sbatch scripts:"
   ]
  },
  {
   "cell_type": "code",
   "execution_count": 12,
   "id": "663688ad-dde9-40ef-b7cb-9fe7b1691154",
   "metadata": {
    "tags": []
   },
   "outputs": [],
   "source": [
    "# Call the slurm scripts with the `sbatch` command\n",
    "_ = [os.system(f\"sbatch {fp}\") for fp in slurm_fps + historical_slurm_fps]"
   ]
  },
  {
   "cell_type": "markdown",
   "id": "3ac96131-b62e-48e1-9731-f5ac3ccf1879",
   "metadata": {},
   "source": [
    "## Compute 5 model averages\n",
    "\n",
    "Compute 5 model averages for all new future data."
   ]
  },
  {
   "cell_type": "code",
   "execution_count": 6,
   "id": "dea5230f-4279-4803-ab44-3f0e64b1c812",
   "metadata": {},
   "outputs": [],
   "source": [
    "import rasterio as rio\n",
    "import numpy as np\n",
    "from tqdm.notebook import tqdm_notebook"
   ]
  },
  {
   "cell_type": "code",
   "execution_count": 4,
   "id": "d1885f03-9104-4cef-8292-c5e355cc8771",
   "metadata": {},
   "outputs": [],
   "source": [
    "# get rasterio file metadata and mask from any complete file\n",
    "relflam_fps = list(relflam_dir.glob(\"*\"))\n",
    "with rio.open(relflam_fps[0]) as src:\n",
    "    meta = src.meta.copy()\n",
    "    mask = src.read(1) == -9999\n",
    "meta.update(compress='lzw')"
   ]
  },
  {
   "cell_type": "code",
   "execution_count": 7,
   "id": "d1bcfb89-7745-4040-a563-823773d9eb3c",
   "metadata": {},
   "outputs": [],
   "source": [
    "# setup helper function for reading data from a tif\n",
    "def read_tif(fp):\n",
    "    with rio.open(fp) as src:\n",
    "        arr = src.read(1)\n",
    "    return arr"
   ]
  },
  {
   "cell_type": "code",
   "execution_count": 7,
   "id": "731ee015-4c49-4fd0-8489-89e7a9064259",
   "metadata": {},
   "outputs": [
    {
     "data": {
      "application/vnd.jupyter.widget-view+json": {
       "model_id": "383dc1eb4db5461f95f4291e1215c5b1",
       "version_major": 2,
       "version_minor": 0
      },
      "text/plain": [
       "  0%|          | 0/27 [00:00<?, ?it/s]"
      ]
     },
     "metadata": {},
     "output_type": "display_data"
    },
    {
     "name": "stdout",
     "output_type": "stream",
     "text": [
      "27 5 model average files written to /atlas_scratch/kmredilla/aalfresco/relative_flammability.\n",
      "alfresco_relative_flammability_2010-2019_5modelAvg_rcp45.tif\n",
      "alfresco_relative_flammability_2010-2019_5modelAvg_rcp60.tif\n",
      "alfresco_relative_flammability_2010-2019_5modelAvg_rcp85.tif\n",
      "alfresco_relative_flammability_2020-2029_5modelAvg_rcp45.tif\n",
      "alfresco_relative_flammability_2020-2029_5modelAvg_rcp60.tif\n",
      "alfresco_relative_flammability_2020-2029_5modelAvg_rcp85.tif\n",
      "alfresco_relative_flammability_2030-2039_5modelAvg_rcp45.tif\n",
      "alfresco_relative_flammability_2030-2039_5modelAvg_rcp60.tif\n",
      "alfresco_relative_flammability_2030-2039_5modelAvg_rcp85.tif\n",
      "alfresco_relative_flammability_2040-2049_5modelAvg_rcp45.tif\n"
     ]
    }
   ],
   "source": [
    "# iterate over eras, scenarios and average over models and save new rasters\n",
    "mean_fps = []\n",
    "avg_groups = list(product(eras, scenarios))\n",
    "for era, scenario in tqdm_notebook(avg_groups):\n",
    "    temp_fps = sorted(list(relflam_dir.glob(f\"*{era}*{scenario}*.tif\")))\n",
    "    arrs = [read_tif(fp) for fp in temp_fps]\n",
    "    mean_arr = np.round(np.array(arrs).mean(axis=0).astype(np.float32), 4)\n",
    "    # sorted list will return CCSM4 data as first file\n",
    "    temp_fn = temp_fps[0].name.replace(\"GFDL-CM3\", \"5modelAvg\")\n",
    "    temp_out_fp = relflam_dir.joinpath(temp_fn)\n",
    "    mean_fps.append(temp_out_fp)\n",
    "    with rio.open(temp_out_fp, \"w\", **meta) as dst:\n",
    "        dst.write(mean_arr, 1)\n",
    "\n",
    "print(f\"{len(mean_fps)} 5 model average files written to {relflam_dir}.\")\n",
    "_ = [print(fp.name) for fp in sorted(list(relflam_dir.glob(\"*5modelAvg*\")))[:10]]"
   ]
  },
  {
   "cell_type": "markdown",
   "id": "1af161e3-6d92-4c35-a405-35f6c383444b",
   "metadata": {},
   "source": [
    "## Add non-modeled pixels to nodata mask\n",
    "\n",
    "Some of the pixels are not modeled and the way that the post-processing scripts compute the summaries assigns these pixels a seemingly-valid data value of 0. These should be masked to nodata, and we will do that here instead of modifying the postprocessing scripts.\n",
    "\n",
    "**Note** - this will modify the outputs from the above processing in place!"
   ]
  },
  {
   "cell_type": "markdown",
   "id": "954fd9a2-a7be-4215-af34-0d6d3cb35cae",
   "metadata": {},
   "source": [
    "Get a mask of 0-valued cells in the vegetation data. A value of 0 corresponds to non-modeled."
   ]
  },
  {
   "cell_type": "code",
   "execution_count": 46,
   "id": "a7311d09-d9d0-4825-af24-4add597d738e",
   "metadata": {},
   "outputs": [],
   "source": [
    "import tqdm\n",
    "from multiprocessing import Pool\n",
    "import matplotlib.pyplot as plt\n",
    "from rasterio.plot import show"
   ]
  },
  {
   "cell_type": "code",
   "execution_count": 25,
   "id": "78549fe0-d23d-40af-b429-8a21025f8330",
   "metadata": {},
   "outputs": [],
   "source": [
    "# veg output file for deriving new mask from \n",
    "veg_fp = list(base_dir.glob(\"GFDL-CM3_rcp45/Maps/1901/Veg*.tif\"))[0]\n",
    "# get mask from any veg file and include 0 as masking value\n",
    "with rio.open(veg_fp) as src:\n",
    "    arr = src.read(1)\n",
    "mask = (arr == 255) | (arr == 0)"
   ]
  },
  {
   "cell_type": "markdown",
   "id": "fc31325e-16e7-404b-b228-68602f0c3d74",
   "metadata": {},
   "source": [
    "Re-mask the data in parallel:"
   ]
  },
  {
   "cell_type": "code",
   "execution_count": 38,
   "id": "918ccddc-5d6f-4e63-bef7-ede0591bb7b4",
   "metadata": {},
   "outputs": [],
   "source": [
    "def mask_tif(args):\n",
    "    fp, mask = args\n",
    "    with rio.open(fp, \"r+\") as src:\n",
    "        arr = src.read(1)\n",
    "        arr[mask] = -9999\n",
    "        src.write(arr, 1)"
   ]
  },
  {
   "cell_type": "code",
   "execution_count": 40,
   "id": "48da4521-8a12-401a-8c68-a81c10560eb8",
   "metadata": {},
   "outputs": [
    {
     "name": "stderr",
     "output_type": "stream",
     "text": [
      "100%|███████████████████████████████████████████████████████████████████████████████████████████████████████████████████████████████████████████████████████████████████████████████████████████████| 169/169 [00:02<00:00, 56.35it/s]\n"
     ]
    }
   ],
   "source": [
    "args = [(fp, mask) for fp in relflam_dir.glob(\"*.tif\")]\n",
    "with Pool(32) as pool:\n",
    "    _ = [result for result in tqdm.tqdm(pool.imap_unordered(mask_tif, args), total=len(args))]"
   ]
  },
  {
   "cell_type": "markdown",
   "id": "5369c25e-7540-4170-994f-c8ff55b5c906",
   "metadata": {},
   "source": [
    "Check some results:"
   ]
  },
  {
   "cell_type": "code",
   "execution_count": 49,
   "id": "60d881e0-b077-4250-92ac-c85a7ed951c3",
   "metadata": {},
   "outputs": [
    {
     "name": "stdout",
     "output_type": "stream",
     "text": [
      "File: /atlas_scratch/kmredilla/aalfresco/relative_flammability/alfresco_relative_flammability_2040-2049_NCAR-CCSM4_rcp60.tif\n"
     ]
    },
    {
     "data": {
      "image/png": "[encoded data removed]",
      "text/plain": [
       "<Figure size 432x288 with 1 Axes>"
      ]
     },
     "metadata": {
      "needs_background": "light"
     },
     "output_type": "display_data"
    }
   ],
   "source": [
    "fp = args[np.random.randint(len(args))][0]\n",
    "print(f\"File: {fp}\")\n",
    "with rio.open(fp) as src:\n",
    "    show(src)"
   ]
  },
  {
   "cell_type": "code",
   "execution_count": 50,
   "id": "c60d2ad2-389c-4b7a-9bb7-90a244515c7d",
   "metadata": {},
   "outputs": [
    {
     "name": "stdout",
     "output_type": "stream",
     "text": [
      "File: /atlas_scratch/kmredilla/aalfresco/relative_flammability/alfresco_relative_flammability_1950-1959_historical.tif\n"
     ]
    },
    {
     "data": {
      "image/png": "[encoded data removed]",
      "text/plain": [
       "<Figure size 432x288 with 1 Axes>"
      ]
     },
     "metadata": {
      "needs_background": "light"
     },
     "output_type": "display_data"
    }
   ],
   "source": [
    "fp = args[np.random.randint(len(args))][0]\n",
    "print(f\"File: {fp}\")\n",
    "with rio.open(fp) as src:\n",
    "    show(src)"
   ]
  },
  {
   "cell_type": "markdown",
   "id": "422700ee-b5d4-494b-9e32-029c894a4086",
   "metadata": {},
   "source": [
    "Looks good."
   ]
  },
  {
   "cell_type": "markdown",
   "id": "6003f501-6087-4679-aa77-e2abcf816092",
   "metadata": {},
   "source": [
    "## Package files for rasdaman\n",
    "\n",
    "Split the files up for ingestion into two different (historical and future) rasdaman coverages:"
   ]
  },
  {
   "cell_type": "code",
   "execution_count": 51,
   "id": "a482c7e1-5db3-4c51-9de1-2de051d7fe35",
   "metadata": {},
   "outputs": [],
   "source": [
    "!mkdir -p /atlas_scratch/kmredilla/aalfresco/historical_relative_flammability\n",
    "!cp /atlas_scratch/kmredilla/aalfresco/relative_flammability/*historical* /atlas_scratch/kmredilla/aalfresco/historical_relative_flammability"
   ]
  },
  {
   "cell_type": "code",
   "execution_count": 52,
   "id": "f0669b97-06ef-43df-8603-fc61ad4a96f0",
   "metadata": {},
   "outputs": [
    {
     "name": "stdout",
     "output_type": "stream",
     "text": [
      "total 36448\n",
      "-rw-r--r--. 1 kmredilla snap_users 5409757 Feb 18 10:33 \u001b[0m\u001b[01;35malfresco_relative_flammability_1950-1959_historical.tif\u001b[0m\n",
      "-rw-r--r--. 1 kmredilla snap_users 7031239 Feb 18 10:33 \u001b[01;35malfresco_relative_flammability_1950-2008_historical.tif\u001b[0m\n",
      "-rw-r--r--. 1 kmredilla snap_users 4396818 Feb 18 10:33 \u001b[01;35malfresco_relative_flammability_1960-1969_historical.tif\u001b[0m\n",
      "-rw-r--r--. 1 kmredilla snap_users 4469603 Feb 18 10:33 \u001b[01;35malfresco_relative_flammability_1970-1979_historical.tif\u001b[0m\n",
      "-rw-r--r--. 1 kmredilla snap_users 4553149 Feb 18 10:33 \u001b[01;35malfresco_relative_flammability_1980-1989_historical.tif\u001b[0m\n",
      "-rw-r--r--. 1 kmredilla snap_users 5493203 Feb 18 10:33 \u001b[01;35malfresco_relative_flammability_1990-1999_historical.tif\u001b[0m\n",
      "-rw-r--r--. 1 kmredilla snap_users 5954957 Feb 18 10:33 \u001b[01;35malfresco_relative_flammability_2000-2008_historical.tif\u001b[0m\n"
     ]
    }
   ],
   "source": [
    "ls -l /atlas_scratch/kmredilla/aalfresco/historical_relative_flammability"
   ]
  },
  {
   "cell_type": "code",
   "execution_count": 53,
   "id": "532ebc78-a0a7-4252-9228-c7765a5283e1",
   "metadata": {},
   "outputs": [],
   "source": [
    "rm /atlas_scratch/kmredilla/aalfresco/historical_relative_flammability.zip"
   ]
  },
  {
   "cell_type": "code",
   "execution_count": 54,
   "id": "f7e21d63-3b16-431c-a54f-be3891b359cc",
   "metadata": {
    "tags": []
   },
   "outputs": [
    {
     "name": "stdout",
     "output_type": "stream",
     "text": [
      "  adding: historical_relative_flammability/ (stored 0%)\n",
      "  adding: historical_relative_flammability/alfresco_relative_flammability_1950-1959_historical.tif (deflated 23%)\n",
      "  adding: historical_relative_flammability/alfresco_relative_flammability_1950-2008_historical.tif (deflated 18%)\n",
      "  adding: historical_relative_flammability/alfresco_relative_flammability_1960-1969_historical.tif (deflated 27%)\n",
      "  adding: historical_relative_flammability/alfresco_relative_flammability_1970-1979_historical.tif (deflated 26%)\n",
      "  adding: historical_relative_flammability/alfresco_relative_flammability_1980-1989_historical.tif (deflated 26%)\n",
      "  adding: historical_relative_flammability/alfresco_relative_flammability_1990-1999_historical.tif (deflated 22%)\n",
      "  adding: historical_relative_flammability/alfresco_relative_flammability_2000-2008_historical.tif (deflated 21%)\n"
     ]
    }
   ],
   "source": [
    "!cd /atlas_scratch/kmredilla/aalfresco/ && zip -r historical_relative_flammability.zip historical_relative_flammability"
   ]
  },
  {
   "cell_type": "code",
   "execution_count": 55,
   "id": "a6e2d89f-8453-47c5-9291-5f867f5eae9e",
   "metadata": {},
   "outputs": [],
   "source": [
    "!mkdir -p /atlas_scratch/kmredilla/aalfresco/future_relative_flammability\n",
    "!cp /atlas_scratch/kmredilla/aalfresco/relative_flammability/*rcp* /atlas_scratch/kmredilla/aalfresco/future_relative_flammability"
   ]
  },
  {
   "cell_type": "code",
   "execution_count": 56,
   "id": "7bc98d4c-9602-4e7b-9234-4da90bc75009",
   "metadata": {},
   "outputs": [
    {
     "name": "stdout",
     "output_type": "stream",
     "text": [
      "total 953780\n",
      "-rw-r--r--. 1 kmredilla snap_users 7032508 Feb 18 10:35 alfresco_relative_flammability_2010-2019_5modelAvg_rcp45.tif\n",
      "-rw-r--r--. 1 kmredilla snap_users 7717261 Feb 18 10:35 alfresco_relative_flammability_2010-2019_5modelAvg_rcp60.tif\n",
      "-rw-r--r--. 1 kmredilla snap_users 7872247 Feb 18 10:35 alfresco_relative_flammability_2010-2019_5modelAvg_rcp85.tif\n",
      "-rw-r--r--. 1 kmredilla snap_users 5176150 Feb 18 10:35 alfresco_relative_flammability_2010-2019_GFDL-CM3_rcp45.tif\n",
      "ls: write error: Broken pipe\n"
     ]
    }
   ],
   "source": [
    "!ls -l /atlas_scratch/kmredilla/aalfresco/future_relative_flammability | head -5"
   ]
  },
  {
   "cell_type": "code",
   "execution_count": 57,
   "id": "30b48e63-2a82-48db-a3a8-de90741b477c",
   "metadata": {},
   "outputs": [],
   "source": [
    "rm /atlas_scratch/kmredilla/aalfresco/future_relative_flammability.zip"
   ]
  },
  {
   "cell_type": "code",
   "execution_count": 59,
   "id": "f220139f-3bf0-43bf-aaea-3c5aa8888c8a",
   "metadata": {
    "tags": []
   },
   "outputs": [],
   "source": [
    "!cd /atlas_scratch/kmredilla/aalfresco/ && zip -r future_relative_flammability.zip future_relative_flammability"
   ]
  }
 ],
 "metadata": {
  "kernelspec": {
   "display_name": "Python 3 (ipykernel)",
   "language": "python",
   "name": "python3"
  },
  "language_info": {
   "codemirror_mode": {
    "name": "ipython",
    "version": 3
   },
   "file_extension": ".py",
   "mimetype": "text/x-python",
   "name": "python",
   "nbconvert_exporter": "python",
   "pygments_lexer": "ipython3",
   "version": "3.8.10"
  }
 },
 "nbformat": 4,
 "nbformat_minor": 5
}
