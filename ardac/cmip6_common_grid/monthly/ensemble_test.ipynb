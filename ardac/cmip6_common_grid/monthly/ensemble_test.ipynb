{
 "cells": [
  {
   "cell_type": "code",
   "execution_count": 1,
   "id": "35b321ba",
   "metadata": {},
   "outputs": [],
   "source": [
    "import xarray as xr\n",
    "import numpy as np\n",
    "import requests\n",
    "import io"
   ]
  },
  {
   "cell_type": "markdown",
   "id": "e078cba4",
   "metadata": {},
   "source": [
    "### Setup"
   ]
  },
  {
   "cell_type": "code",
   "execution_count": 2,
   "id": "57f69b07",
   "metadata": {},
   "outputs": [],
   "source": [
    "def test_ensemble_mean(ds, lat, lon, models):\n",
    "\n",
    "    for var in list(ds.data_vars):\n",
    "        if var not in [\"spatial_ref\", \"crs\"]:\n",
    "            print(f\"Indicator: {var}\")\n",
    "\n",
    "            print(\"Original Dataset Values:\")\n",
    "            values = (\n",
    "                ds[var]\n",
    "                .sel(\n",
    "                    lat=lat,\n",
    "                    lon=lon,\n",
    "                    method=\"nearest\",\n",
    "                )\n",
    "                .sel(model=models)\n",
    "                .values\n",
    "            )\n",
    "\n",
    "            print(values)\n",
    "            print(\"\\n Calculated Ensemble Mean:\")\n",
    "            # skip -9999 when calculating the mean\n",
    "            values = np.where(values == -9999, np.nan, values)\n",
    "            print(np.nanmean(values))\n",
    "\n",
    "            print(\"Dataset Ensemble Mean:\")\n",
    "            print(\n",
    "                ds[var]\n",
    "                .sel(\n",
    "                    lat=lat,\n",
    "                    lon=lon,\n",
    "                    method=\"nearest\",\n",
    "                )\n",
    "                .sel(model=13)\n",
    "                .values\n",
    "            )\n",
    "\n",
    "            print(\"\\n\\n\")"
   ]
  },
  {
   "cell_type": "code",
   "execution_count": 12,
   "id": "4e7a599f",
   "metadata": {},
   "outputs": [],
   "source": [
    "# test will use this location\n",
    "lat = 65\n",
    "lon = -142\n",
    "models = slice(0, 13)  # first 12 models - model 13 is the ensemble mean\n",
    "\n",
    "# query only first and last timesteps / scenarios of the datacube\n",
    "times = [14, 55098.5]\n",
    "scenarios = [0, 4]\n",
    "\n",
    "hist_url = f\"https://zeus.snap.uaf.edu/rasdaman/ows?&SERVICE=WCS&VERSION=2.0.1&REQUEST=GetCoverage&COVERAGEID=cmip6_monthly_cf&SUBSET=model(0)&SUBSET=lat(64,65)&SUBSET=lon(-145,-144)&SUBSET=scenario({scenarios[0]})&FORMAT=application/netcdf\"\n",
    "proj_url = f\"https://zeus.snap.uaf.edu/rasdaman/ows?&SERVICE=WCS&VERSION=2.0.1&REQUEST=GetCoverage&COVERAGEID=cmip6_monthly_cf&SUBSET=model(0)&SUBSET=lat(64,65)&SUBSET=lon(-145,-144)&SUBSET=scenario({scenarios[1]})&FORMAT=application/netcdf\""
   ]
  },
  {
   "cell_type": "markdown",
   "id": "262f2eed",
   "metadata": {},
   "source": [
    "### Historical"
   ]
  },
  {
   "cell_type": "code",
   "execution_count": 13,
   "id": "dda60de0",
   "metadata": {},
   "outputs": [
    {
     "name": "stdout",
     "output_type": "stream",
     "text": [
      "https://zeus.snap.uaf.edu/rasdaman/ows?&SERVICE=WCS&VERSION=2.0.1&REQUEST=GetCoverage&COVERAGEID=cmip6_monthly_cf&SUBSET=model(0)&SUBSET=lat(64,65)&SUBSET=lon(-145,-144)&SUBSET=scenario(0)&FORMAT=application/netcdf\n"
     ]
    },
    {
     "ename": "ValueError",
     "evalue": "did not find a match in any of xarray's currently installed IO backends ['netcdf4', 'h5netcdf', 'scipy', 'cfgrib', 'pydap', 'rasterio', 'zarr']. Consider explicitly selecting one of the installed engines via the ``engine`` parameter, or installing additional IO dependencies, see:\nhttps://docs.xarray.dev/en/stable/getting-started-guide/installing.html\nhttps://docs.xarray.dev/en/stable/user-guide/io.html",
     "output_type": "error",
     "traceback": [
      "\u001b[0;31m---------------------------------------------------------------------------\u001b[0m",
      "\u001b[0;31mValueError\u001b[0m                                Traceback (most recent call last)",
      "Cell \u001b[0;32mIn[13], line 3\u001b[0m\n\u001b[1;32m      1\u001b[0m \u001b[38;5;28;01mwith\u001b[39;00m requests\u001b[38;5;241m.\u001b[39mget(hist_url) \u001b[38;5;28;01mas\u001b[39;00m response:\n\u001b[1;32m      2\u001b[0m     \u001b[38;5;28mprint\u001b[39m(hist_url)\n\u001b[0;32m----> 3\u001b[0m     ds_hist \u001b[38;5;241m=\u001b[39m xr\u001b[38;5;241m.\u001b[39mopen_dataset(\n\u001b[1;32m      4\u001b[0m         io\u001b[38;5;241m.\u001b[39mBytesIO(response\u001b[38;5;241m.\u001b[39mcontent), decode_cf\u001b[38;5;241m=\u001b[39m\u001b[38;5;28;01mTrue\u001b[39;00m, mask_and_scale\u001b[38;5;241m=\u001b[39m\u001b[38;5;28;01mFalse\u001b[39;00m\n\u001b[1;32m      5\u001b[0m     )\n\u001b[1;32m      6\u001b[0m ds_hist\n",
      "File \u001b[0;32m~/miniconda3/envs/snap-geo/lib/python3.11/site-packages/xarray/backends/api.py:554\u001b[0m, in \u001b[0;36mopen_dataset\u001b[0;34m(filename_or_obj, engine, chunks, cache, decode_cf, mask_and_scale, decode_times, decode_timedelta, use_cftime, concat_characters, decode_coords, drop_variables, inline_array, chunked_array_type, from_array_kwargs, backend_kwargs, **kwargs)\u001b[0m\n\u001b[1;32m    551\u001b[0m     kwargs\u001b[38;5;241m.\u001b[39mupdate(backend_kwargs)\n\u001b[1;32m    553\u001b[0m \u001b[38;5;28;01mif\u001b[39;00m engine \u001b[38;5;129;01mis\u001b[39;00m \u001b[38;5;28;01mNone\u001b[39;00m:\n\u001b[0;32m--> 554\u001b[0m     engine \u001b[38;5;241m=\u001b[39m plugins\u001b[38;5;241m.\u001b[39mguess_engine(filename_or_obj)\n\u001b[1;32m    556\u001b[0m \u001b[38;5;28;01mif\u001b[39;00m from_array_kwargs \u001b[38;5;129;01mis\u001b[39;00m \u001b[38;5;28;01mNone\u001b[39;00m:\n\u001b[1;32m    557\u001b[0m     from_array_kwargs \u001b[38;5;241m=\u001b[39m {}\n",
      "File \u001b[0;32m~/miniconda3/envs/snap-geo/lib/python3.11/site-packages/xarray/backends/plugins.py:197\u001b[0m, in \u001b[0;36mguess_engine\u001b[0;34m(store_spec)\u001b[0m\n\u001b[1;32m    189\u001b[0m \u001b[38;5;28;01melse\u001b[39;00m:\n\u001b[1;32m    190\u001b[0m     error_msg \u001b[38;5;241m=\u001b[39m (\n\u001b[1;32m    191\u001b[0m         \u001b[38;5;124m\"\u001b[39m\u001b[38;5;124mfound the following matches with the input file in xarray\u001b[39m\u001b[38;5;124m'\u001b[39m\u001b[38;5;124ms IO \u001b[39m\u001b[38;5;124m\"\u001b[39m\n\u001b[1;32m    192\u001b[0m         \u001b[38;5;124mf\u001b[39m\u001b[38;5;124m\"\u001b[39m\u001b[38;5;124mbackends: \u001b[39m\u001b[38;5;132;01m{\u001b[39;00mcompatible_engines\u001b[38;5;132;01m}\u001b[39;00m\u001b[38;5;124m. But their dependencies may not be installed, see:\u001b[39m\u001b[38;5;130;01m\\n\u001b[39;00m\u001b[38;5;124m\"\u001b[39m\n\u001b[1;32m    193\u001b[0m         \u001b[38;5;124m\"\u001b[39m\u001b[38;5;124mhttps://docs.xarray.dev/en/stable/user-guide/io.html \u001b[39m\u001b[38;5;130;01m\\n\u001b[39;00m\u001b[38;5;124m\"\u001b[39m\n\u001b[1;32m    194\u001b[0m         \u001b[38;5;124m\"\u001b[39m\u001b[38;5;124mhttps://docs.xarray.dev/en/stable/getting-started-guide/installing.html\u001b[39m\u001b[38;5;124m\"\u001b[39m\n\u001b[1;32m    195\u001b[0m     )\n\u001b[0;32m--> 197\u001b[0m \u001b[38;5;28;01mraise\u001b[39;00m \u001b[38;5;167;01mValueError\u001b[39;00m(error_msg)\n",
      "\u001b[0;31mValueError\u001b[0m: did not find a match in any of xarray's currently installed IO backends ['netcdf4', 'h5netcdf', 'scipy', 'cfgrib', 'pydap', 'rasterio', 'zarr']. Consider explicitly selecting one of the installed engines via the ``engine`` parameter, or installing additional IO dependencies, see:\nhttps://docs.xarray.dev/en/stable/getting-started-guide/installing.html\nhttps://docs.xarray.dev/en/stable/user-guide/io.html"
     ]
    }
   ],
   "source": [
    "with requests.get(hist_url) as response:\n",
    "    print(hist_url)\n",
    "    ds_hist = xr.open_dataset(\n",
    "        io.BytesIO(response.content), decode_cf=True, mask_and_scale=False\n",
    "    )\n",
    "ds_hist"
   ]
  },
  {
   "cell_type": "code",
   "execution_count": null,
   "id": "c6931971",
   "metadata": {},
   "outputs": [],
   "source": []
  }
 ],
 "metadata": {
  "kernelspec": {
   "display_name": "snap-geo",
   "language": "python",
   "name": "python3"
  },
  "language_info": {
   "codemirror_mode": {
    "name": "ipython",
    "version": 3
   },
   "file_extension": ".py",
   "mimetype": "text/x-python",
   "name": "python",
   "nbconvert_exporter": "python",
   "pygments_lexer": "ipython3",
   "version": "3.11.6"
  }
 },
 "nbformat": 4,
 "nbformat_minor": 5
}
