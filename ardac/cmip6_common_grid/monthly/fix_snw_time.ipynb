{
 "cells": [
  {
   "cell_type": "code",
   "execution_count": 26,
   "id": "8ea2aee8",
   "metadata": {},
   "outputs": [],
   "source": [
    "import sys\n",
    "import xarray as xr\n",
    "from pathlib import Path\n",
    "import pandas as pd\n",
    "import numpy as np\n",
    "from datetime import datetime"
   ]
  },
  {
   "cell_type": "code",
   "execution_count": 27,
   "id": "c5da6c93",
   "metadata": {},
   "outputs": [],
   "source": [
    "def fix_time(ds):\n",
    "    \"\"\"If months are missing, fix the dataset by adding NaN values for those months.\"\"\"\n",
    "\n",
    "    var = list(ds.data_vars)[0]\n",
    "    src = ds[var].encoding[\"source\"]\n",
    "\n",
    "    ds[\"time\"] = ds[\"time\"].astype(\"datetime64[ns]\")\n",
    "\n",
    "    # look for missing months and fill those variable values with NaN\n",
    "    # get all months present in the time coordinate\n",
    "    months_present = set(ds[\"time\"].dt.month.values)\n",
    "    all_months = set(range(1, 13))\n",
    "    missing_months = sorted(list(all_months - months_present))\n",
    "\n",
    "    if missing_months:\n",
    "        print(\n",
    "            f\"Missing months in {src}: {missing_months} .... attempting to add all NaN array for these months.\"\n",
    "        )\n",
    "        # get the years present in the dataset\n",
    "        years = np.unique(ds[\"time\"].dt.year.values)\n",
    "        # create new timestamps for each missing month in each year\n",
    "        new_times = []\n",
    "        for year in years:\n",
    "            for month in missing_months:\n",
    "                new_times.append(np.datetime64(f\"{year}-{month:02d}-15\"))\n",
    "\n",
    "        # convert new_times to nanosecond precision to avoid xarray warning\n",
    "        new_times = np.array(new_times, dtype=\"datetime64[M]\").astype(\"datetime64[ns]\")\n",
    "\n",
    "        # reindex the variable to include the new times, filling missing values with NaN\n",
    "        new_shape = (len(ds.lon), len(ds.lat), len(new_times))\n",
    "        nan_data = xr.DataArray(\n",
    "            np.full(new_shape, np.nan),\n",
    "            dims=(\"lon\", \"lat\", \"time\"),\n",
    "            coords={\"lon\": ds.lon, \"lat\": ds.lat, \"time\": new_times},\n",
    "        )\n",
    "        new_ds = xr.Dataset({var: nan_data})\n",
    "        combined = xr.concat([ds, new_ds], dim=\"time\")\n",
    "        combined = combined.sortby(\"time\")\n",
    "\n",
    "    return combined if missing_months else ds"
   ]
  },
  {
   "cell_type": "code",
   "execution_count": 28,
   "id": "b4c39819",
   "metadata": {},
   "outputs": [],
   "source": [
    "dir = \"/beegfs/CMIP6/jdpaul3/CMIP6_common_regrid/regrid/\"\n",
    "# output where the fixed files will be saved\n",
    "output_dir = Path(\"/beegfs/CMIP6/jdpaul3/cmip6_regrid_timefix\")"
   ]
  },
  {
   "cell_type": "code",
   "execution_count": 29,
   "id": "e8b0a4f0",
   "metadata": {},
   "outputs": [],
   "source": [
    "# list all monthly snw*.nc files in the directory and any subdirectories\n",
    "files = list(Path(dir).rglob(\"snw_*mon_*.nc\"))"
   ]
  },
  {
   "cell_type": "code",
   "execution_count": 30,
   "id": "71ed85b7",
   "metadata": {},
   "outputs": [
    {
     "name": "stdout",
     "output_type": "stream",
     "text": [
      "Missing months in /beegfs/CMIP6/jdpaul3/CMIP6_common_regrid/regrid/TaiESM1/ssp370/LImon/snw/snw_LImon_TaiESM1_ssp370_regrid_201502-201512.nc: [1] .... attempting to add all NaN array for these months.\n",
      "Missing months in /beegfs/CMIP6/jdpaul3/CMIP6_common_regrid/regrid/TaiESM1/ssp585/LImon/snw/snw_LImon_TaiESM1_ssp585_regrid_201502-201512.nc: [1] .... attempting to add all NaN array for these months.\n",
      "Missing months in /beegfs/CMIP6/jdpaul3/CMIP6_common_regrid/regrid/NorESM2-MM/ssp245/LImon/snw/snw_LImon_NorESM2-MM_ssp245_regrid_201502-201512.nc: [1] .... attempting to add all NaN array for these months.\n",
      "Missing months in /beegfs/CMIP6/jdpaul3/CMIP6_common_regrid/regrid/NorESM2-MM/ssp370/LImon/snw/snw_LImon_NorESM2-MM_ssp370_regrid_201502-201512.nc: [1] .... attempting to add all NaN array for these months.\n",
      "Missing months in /beegfs/CMIP6/jdpaul3/CMIP6_common_regrid/regrid/NorESM2-MM/ssp126/LImon/snw/snw_LImon_NorESM2-MM_ssp126_regrid_201502-201512.nc: [1] .... attempting to add all NaN array for these months.\n",
      "Missing months in /beegfs/CMIP6/jdpaul3/CMIP6_common_regrid/regrid/NorESM2-MM/ssp585/LImon/snw/snw_LImon_NorESM2-MM_ssp585_regrid_201502-201512.nc: [1] .... attempting to add all NaN array for these months.\n"
     ]
    }
   ],
   "source": [
    "# for each file, open it and add missing months, and save it to the output directory with the same directory structure\n",
    "for file in files:\n",
    "    try:\n",
    "        ds = xr.open_dataset(file, decode_times=True)\n",
    "        ds = fix_time(ds)\n",
    "        output_file = output_dir / file.relative_to(dir)\n",
    "        output_file.parent.mkdir(\n",
    "            parents=True, exist_ok=True\n",
    "        )  # Create parent directories if they don't exist\n",
    "        ds.to_netcdf(output_file, mode=\"w\", format=\"NETCDF4\")\n",
    "        ds.close()\n",
    "        #print(f\"Saved {file} successfully.\")\n",
    "    except Exception as e:\n",
    "        print(f\"Error processing {file}: {e}\", file=sys.stderr)"
   ]
  },
  {
   "cell_type": "code",
   "execution_count": null,
   "id": "a4bba162",
   "metadata": {},
   "outputs": [],
   "source": [
    "'CESM2 E3SM-2-0 GFDL-ESM4 HadGEM3-GC31-MM MPI-ESM1-2-HR CNRM-CM6-1-HR EC-Earth3-Veg HadGEM3-GC31-LL MIROC6 MRI-ESM2-0'\n",
    "\n"
   ]
  }
 ],
 "metadata": {
  "kernelspec": {
   "display_name": "snap-geo",
   "language": "python",
   "name": "python3"
  },
  "language_info": {
   "codemirror_mode": {
    "name": "ipython",
    "version": 3
   },
   "file_extension": ".py",
   "mimetype": "text/x-python",
   "name": "python",
   "nbconvert_exporter": "python",
   "pygments_lexer": "ipython3",
   "version": "3.11.6"
  }
 },
 "nbformat": 4,
 "nbformat_minor": 5
}
