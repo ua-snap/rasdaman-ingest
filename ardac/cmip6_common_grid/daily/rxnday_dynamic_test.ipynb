{
 "cells": [
  {
   "cell_type": "code",
   "execution_count": 1,
   "metadata": {},
   "outputs": [],
   "source": [
    "import requests"
   ]
  },
  {
   "cell_type": "code",
   "execution_count": 31,
   "metadata": {},
   "outputs": [],
   "source": [
    "hist_cov = \"cmip6_daily_pr_historical\"\n",
    "proj_cov = \"cmip6_daily_pr_projected\"\n",
    "\n",
    "hist_scenario = 0\n",
    "proj_scenario = 3\n",
    "\n",
    "lat = 64\n",
    "lon = -147\n",
    "model = 13  # ensemble"
   ]
  },
  {
   "cell_type": "code",
   "execution_count": 32,
   "metadata": {},
   "outputs": [],
   "source": [
    "hist_get_cov_request_url = f\"https://zeus.snap.uaf.edu/rasdaman/ows?&SERVICE=WCS&VERSION=2.0.1&REQUEST=GetCoverage&COVERAGEID={hist_cov}&SUBSET=model({model})&SUBSET=scenario({hist_scenario})&SUBSET=lat({lat})&SUBSET=lon({lon})&FORMAT=application/json\"\n",
    "proj_get_cov_request_url = f\"https://zeus.snap.uaf.edu/rasdaman/ows?&SERVICE=WCS&VERSION=2.0.1&REQUEST=GetCoverage&COVERAGEID={proj_cov}&SUBSET=model({model})&SUBSET=scenario({proj_scenario})&SUBSET=lat({lat})&SUBSET=lon({lon})&FORMAT=application/json\""
   ]
  },
  {
   "cell_type": "code",
   "execution_count": 33,
   "metadata": {},
   "outputs": [
    {
     "name": "stdout",
     "output_type": "stream",
     "text": [
      "https://zeus.snap.uaf.edu/rasdaman/ows?&SERVICE=WCS&VERSION=2.0.1&REQUEST=GetCoverage&COVERAGEID=cmip6_daily_pr_historical&SUBSET=model(13)&SUBSET=scenario(0)&SUBSET=lat(64)&SUBSET=lon(-147)&FORMAT=application/json\n",
      "https://zeus.snap.uaf.edu/rasdaman/ows?&SERVICE=WCS&VERSION=2.0.1&REQUEST=GetCoverage&COVERAGEID=cmip6_daily_pr_projected&SUBSET=model(13)&SUBSET=scenario(3)&SUBSET=lat(64)&SUBSET=lon(-147)&FORMAT=application/json\n"
     ]
    }
   ],
   "source": [
    "with requests.get(hist_get_cov_request_url) as r:\n",
    "    print(hist_get_cov_request_url)\n",
    "    if r.status_code != 200:\n",
    "        print(\"Error:\", r.status_code)\n",
    "    hist_result = r.json()\n",
    "\n",
    "with requests.get(proj_get_cov_request_url) as r:\n",
    "    print(proj_get_cov_request_url)\n",
    "    if r.status_code != 200:\n",
    "        print(\"Error:\", r.status_code)\n",
    "    proj_result = r.json()"
   ]
  },
  {
   "cell_type": "code",
   "execution_count": 34,
   "metadata": {},
   "outputs": [
    {
     "data": {
      "text/plain": [
       "23725"
      ]
     },
     "execution_count": 34,
     "metadata": {},
     "output_type": "execute_result"
    }
   ],
   "source": [
    "# all historical days 1950 - 2014\n",
    "# 65 years * 365 = 23725\n",
    "len(hist_result)"
   ]
  },
  {
   "cell_type": "code",
   "execution_count": 35,
   "metadata": {},
   "outputs": [
    {
     "data": {
      "text/plain": [
       "31390"
      ]
     },
     "execution_count": 35,
     "metadata": {},
     "output_type": "execute_result"
    }
   ],
   "source": [
    "# all projected days 2015 - 2100\n",
    "# 86 years * 365 = 31390\n",
    "len(proj_result)"
   ]
  },
  {
   "cell_type": "code",
   "execution_count": 36,
   "metadata": {},
   "outputs": [],
   "source": [
    "# split the result into years and store data in a dict\n",
    "years = {}\n",
    "for i in range(65):\n",
    "    year = 1950 + i\n",
    "    years[year] = hist_result[i * 365 : (i + 1) * 365]\n",
    "for i in range(86):\n",
    "    year = 2015 + i\n",
    "    years[year] = proj_result[i * 365 : (i + 1) * 365]"
   ]
  },
  {
   "cell_type": "code",
   "execution_count": 37,
   "metadata": {},
   "outputs": [],
   "source": [
    "# make a function to take a list of 365 data points (1 year of precip data),\n",
    "# and compute indicator rx_nday: Maximum n–day precipitation (mm)\n",
    "def compute_rx_nday(precip_data, n):\n",
    "    max_nday = 0\n",
    "    for i in range(len(precip_data) - (n - 1)):\n",
    "        n_day_sum = sum(precip_data[i : i + n])\n",
    "        if n_day_sum > max_nday:\n",
    "            max_nday = n_day_sum\n",
    "    return max_nday"
   ]
  },
  {
   "cell_type": "code",
   "execution_count": 42,
   "metadata": {},
   "outputs": [],
   "source": [
    "# for each year in the dict, calculate r10mm and store in a new dict\n",
    "rxnday_results = {}\n",
    "\n",
    "n = 7\n",
    "\n",
    "for year, data in years.items():\n",
    "    rxnday = compute_rx_nday(data, n=n)\n",
    "    rxnday_results[year] = rxnday"
   ]
  },
  {
   "cell_type": "code",
   "execution_count": 43,
   "metadata": {},
   "outputs": [
    {
     "data": {
      "text/plain": [
       "{1950: 30.499999999999996,\n",
       " 1951: 34.5,\n",
       " 1952: 29.500000000000004,\n",
       " 1953: 28.7,\n",
       " 1954: 29.7,\n",
       " 1955: 32.4,\n",
       " 1956: 29.499999999999996,\n",
       " 1957: 31.399999999999995,\n",
       " 1958: 36.900000000000006,\n",
       " 1959: 34.1,\n",
       " 1960: 28.000000000000004,\n",
       " 1961: 28.5,\n",
       " 1962: 29.900000000000002,\n",
       " 1963: 32.1,\n",
       " 1964: 32.8,\n",
       " 1965: 32.1,\n",
       " 1966: 30.900000000000006,\n",
       " 1967: 30.5,\n",
       " 1968: 36.2,\n",
       " 1969: 38.7,\n",
       " 1970: 28.999999999999996,\n",
       " 1971: 29.0,\n",
       " 1972: 32.9,\n",
       " 1973: 32.5,\n",
       " 1974: 29.9,\n",
       " 1975: 34.9,\n",
       " 1976: 30.7,\n",
       " 1977: 29.7,\n",
       " 1978: 28.7,\n",
       " 1979: 29.6,\n",
       " 1980: 32.2,\n",
       " 1981: 28.4,\n",
       " 1982: 32.4,\n",
       " 1983: 33.1,\n",
       " 1984: 31.6,\n",
       " 1985: 32.7,\n",
       " 1986: 35.199999999999996,\n",
       " 1987: 29.6,\n",
       " 1988: 31.000000000000004,\n",
       " 1989: 33.1,\n",
       " 1990: 30.0,\n",
       " 1991: 30.4,\n",
       " 1992: 30.9,\n",
       " 1993: 35.6,\n",
       " 1994: 34.49999999999999,\n",
       " 1995: 33.5,\n",
       " 1996: 35.5,\n",
       " 1997: 30.400000000000002,\n",
       " 1998: 32.7,\n",
       " 1999: 38.300000000000004,\n",
       " 2000: 30.799999999999997,\n",
       " 2001: 31.9,\n",
       " 2002: 40.0,\n",
       " 2003: 33.9,\n",
       " 2004: 34.5,\n",
       " 2005: 33.300000000000004,\n",
       " 2006: 31.099999999999994,\n",
       " 2007: 33.199999999999996,\n",
       " 2008: 33.5,\n",
       " 2009: 36.5,\n",
       " 2010: 38.699999999999996,\n",
       " 2011: 34.800000000000004,\n",
       " 2012: 32.3,\n",
       " 2013: 32.599999999999994,\n",
       " 2014: 31.2,\n",
       " 2015: 32.5,\n",
       " 2016: 36.0,\n",
       " 2017: 31.9,\n",
       " 2018: 35.7,\n",
       " 2019: 39.199999999999996,\n",
       " 2020: 35.2,\n",
       " 2021: 30.5,\n",
       " 2022: 30.5,\n",
       " 2023: 33.3,\n",
       " 2024: 30.4,\n",
       " 2025: 30.099999999999998,\n",
       " 2026: 31.699999999999996,\n",
       " 2027: 39.7,\n",
       " 2028: 30.8,\n",
       " 2029: 34.7,\n",
       " 2030: 36.199999999999996,\n",
       " 2031: 30.799999999999997,\n",
       " 2032: 34.5,\n",
       " 2033: 33.2,\n",
       " 2034: 33.900000000000006,\n",
       " 2035: 38.0,\n",
       " 2036: 41.599999999999994,\n",
       " 2037: 41.89999999999999,\n",
       " 2038: 31.900000000000002,\n",
       " 2039: 37.0,\n",
       " 2040: 33.0,\n",
       " 2041: 37.199999999999996,\n",
       " 2042: 33.0,\n",
       " 2043: 39.9,\n",
       " 2044: 38.7,\n",
       " 2045: 36.800000000000004,\n",
       " 2046: 31.599999999999998,\n",
       " 2047: 39.199999999999996,\n",
       " 2048: 42.6,\n",
       " 2049: 37.5,\n",
       " 2050: 36.5,\n",
       " 2051: 41.6,\n",
       " 2052: 32.6,\n",
       " 2053: 39.2,\n",
       " 2054: 35.6,\n",
       " 2055: 32.6,\n",
       " 2056: 39.0,\n",
       " 2057: 40.2,\n",
       " 2058: 31.799999999999997,\n",
       " 2059: 31.599999999999998,\n",
       " 2060: 35.3,\n",
       " 2061: 40.699999999999996,\n",
       " 2062: 39.199999999999996,\n",
       " 2063: 33.1,\n",
       " 2064: 34.2,\n",
       " 2065: 36.0,\n",
       " 2066: 41.4,\n",
       " 2067: 40.800000000000004,\n",
       " 2068: 35.99999999999999,\n",
       " 2069: 43.800000000000004,\n",
       " 2070: 47.199999999999996,\n",
       " 2071: 34.6,\n",
       " 2072: 42.300000000000004,\n",
       " 2073: 37.2,\n",
       " 2074: 33.9,\n",
       " 2075: 37.199999999999996,\n",
       " 2076: 38.199999999999996,\n",
       " 2077: 34.199999999999996,\n",
       " 2078: 43.0,\n",
       " 2079: 46.800000000000004,\n",
       " 2080: 38.4,\n",
       " 2081: 41.7,\n",
       " 2082: 40.1,\n",
       " 2083: 43.900000000000006,\n",
       " 2084: 41.300000000000004,\n",
       " 2085: 35.5,\n",
       " 2086: 40.0,\n",
       " 2087: 40.300000000000004,\n",
       " 2088: 44.5,\n",
       " 2089: 44.4,\n",
       " 2090: 37.3,\n",
       " 2091: 39.6,\n",
       " 2092: 38.6,\n",
       " 2093: 40.8,\n",
       " 2094: 44.10000000000001,\n",
       " 2095: 39.7,\n",
       " 2096: 42.2,\n",
       " 2097: 42.8,\n",
       " 2098: 44.9,\n",
       " 2099: 38.4,\n",
       " 2100: 39.2}"
      ]
     },
     "execution_count": 43,
     "metadata": {},
     "output_type": "execute_result"
    }
   ],
   "source": [
    "rxnday_results"
   ]
  },
  {
   "cell_type": "code",
   "execution_count": 45,
   "metadata": {},
   "outputs": [
    {
     "name": "stdout",
     "output_type": "stream",
     "text": [
      "1985-2014 ensemble average rx7day: 33.39\n",
      "2070-2099 ensemble average rx7day: 40.43666666666666\n"
     ]
    }
   ],
   "source": [
    "# average the values from 1985-2014, and from 2070-2099\n",
    "hist_avg = sum([v for k, v in rxnday_results.items() if k >= 1985 and k <= 2014]) / 30\n",
    "proj_avg = sum([v for k, v in rxnday_results.items() if k >= 2070 and k <= 2099]) / 30\n",
    "\n",
    "print(f\"1985-2014 ensemble average rx{n}day:\", hist_avg)\n",
    "print(f\"2070-2099 ensemble average rx{n}day:\", proj_avg)"
   ]
  },
  {
   "cell_type": "code",
   "execution_count": null,
   "metadata": {},
   "outputs": [],
   "source": []
  }
 ],
 "metadata": {
  "kernelspec": {
   "display_name": "snap-geo",
   "language": "python",
   "name": "python3"
  },
  "language_info": {
   "codemirror_mode": {
    "name": "ipython",
    "version": 3
   },
   "file_extension": ".py",
   "mimetype": "text/x-python",
   "name": "python",
   "nbconvert_exporter": "python",
   "pygments_lexer": "ipython3",
   "version": "3.11.6"
  }
 },
 "nbformat": 4,
 "nbformat_minor": 2
}
