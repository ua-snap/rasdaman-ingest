{
 "cells": [
  {
   "cell_type": "markdown",
   "id": "ca897a2b-516f-4758-96c7-9f8dbbbfc40c",
   "metadata": {},
   "source": [
    "# Process CORDEX indicators\n",
    "\n",
    "Processing notebook for CORDEX indicators."
   ]
  },
  {
   "cell_type": "code",
   "execution_count": 167,
   "id": "a271ca0e-7e1f-40e6-ba00-b1434d9daff7",
   "metadata": {},
   "outputs": [],
   "source": [
    "from pathlib import Path\n",
    "import matplotlib.pyplot as plt\n",
    "import numpy as np\n",
    "import rasterio as rio\n",
    "import xarray as xr\n",
    "import rioxarray"
   ]
  },
  {
   "cell_type": "markdown",
   "id": "db7ef7d1-c6d9-4198-94b8-7463a53ad195",
   "metadata": {},
   "source": [
    "Load the data:"
   ]
  },
  {
   "cell_type": "code",
   "execution_count": 137,
   "id": "11419c3e-be08-4ef7-b61f-e8228c5f84ac",
   "metadata": {},
   "outputs": [
    {
     "name": "stdout",
     "output_type": "stream",
     "text": [
      "CPU times: user 2.15 s, sys: 4.22 s, total: 6.37 s\n",
      "Wall time: 3min 4s\n"
     ]
    }
   ],
   "source": [
    "%%time\n",
    "ds = xr.load_dataset(\"/workspace/Shared/Tech_Projects/TBEC_CMIP5_Processing/final_products/annual_indices.nc\")"
   ]
  },
  {
   "cell_type": "markdown",
   "id": "1f42c54b-086a-47c0-a2f7-7a9cbb08a93d",
   "metadata": {},
   "source": [
    "Define some stuff and lookup tables:"
   ]
  },
  {
   "cell_type": "code",
   "execution_count": 144,
   "id": "7aafad1f-b1b6-4907-9d57-6c3ba66fda35",
   "metadata": {},
   "outputs": [],
   "source": [
    "out_dir = Path(\"/atlas_scratch/kmredilla/cordex_indicator_climatologies\")\n",
    "out_dir.mkdir(exist_ok=True)\n",
    "\n",
    "era_lut = {\n",
    "    \"historical\": \"1976-2005\",\n",
    "    \"midcentury\": \"2040-2069\",\n",
    "    \"longterm\": \"2070-2099\"\n",
    "}\n",
    "\n",
    "aggr_var_lut = {\n",
    "    \"min\": np.min,\n",
    "    \"mean\": np.mean,\n",
    "    \"max\": np.max\n",
    "}\n",
    "\n",
    "null_value = -9999\n",
    "\n",
    "def get_year_slice(era):\n",
    "    \"\"\"Make a slice object from string representation of era\"\"\"\n",
    "    start_year, end_year = era_lut[era].split(\"-\")\n",
    "    return slice(start_year, end_year)\n",
    "\n",
    "\n",
    "def write_geotiff(out_fp, arr):\n",
    "    \"\"\"Write an array to an output file\"\"\"\n",
    "    with rio.open(out_fp, \"w\", **PROFILE) as dst:\n",
    "        dst.write(arr, 1)\n",
    "    \n",
    "    return"
   ]
  },
  {
   "cell_type": "markdown",
   "id": "1757145c-107e-40a4-b653-b1c248639265",
   "metadata": {},
   "source": [
    "Define the expected output CRS and store in global variable:"
   ]
  },
  {
   "cell_type": "code",
   "execution_count": 174,
   "id": "fcf658a0-b8dd-4243-b961-67b1da5302f2",
   "metadata": {},
   "outputs": [],
   "source": [
    "dy = ds.lat.values[0] - ds.lat.values[1]\n",
    "dx = ds.lon.values[1] - ds.lon.values[0]\n",
    "# width = ds.lon.values.shape[0]\n",
    "# height = ds.lat.values.shape[0]\n",
    "# reprojected values\n",
    "width = 155\n",
    "height = 130\n",
    "transform = rio.transform.from_origin(\n",
    "    ds.lon.values.min() - dx, \n",
    "    ds.lat.values.max() + dy,\n",
    "    dx,\n",
    "    dy\n",
    ")\n",
    "crs = rio.crs.CRS.from_epsg(\"3338\")\n",
    "\n",
    "PROFILE = {\n",
    "    \"driver\": \"GTiff\",\n",
    "    \"crs\": crs,\n",
    "    \"transform\": transform,\n",
    "    \"width\": 155,\n",
    "    \"height\": height,\n",
    "    \"count\": 1,\n",
    "    \"dtype\": np.float32,\n",
    "    \"nodata\": null_value,\n",
    "    \"tiled\": False,\n",
    "    \"compress\": \"lzw\",\n",
    "    \"interleave\": \"band\",\n",
    "}"
   ]
  },
  {
   "cell_type": "markdown",
   "id": "c70617b1-5db0-4a51-b97b-ce67332903a2",
   "metadata": {},
   "source": [
    "Set the `_FillValue` attribute for all data vars to `np.nan` for reprojecting:"
   ]
  },
  {
   "cell_type": "code",
   "execution_count": 180,
   "id": "87e59aa4-600d-46ca-83e1-51ce92eef839",
   "metadata": {},
   "outputs": [],
   "source": [
    "for varname in summary_ds.data_vars:\n",
    "    summary_ds[varname].attrs[\"_FillValue\"] = np.nan"
   ]
  },
  {
   "cell_type": "markdown",
   "id": "8d6e92f4-e323-4f08-9e10-4dda9e6b6f83",
   "metadata": {},
   "source": [
    "Process historical\n"
   ]
  },
  {
   "cell_type": "code",
   "execution_count": 186,
   "id": "285fd799-85dd-4a93-b5a5-5438885ab3ac",
   "metadata": {},
   "outputs": [
    {
     "name": "stderr",
     "output_type": "stream",
     "text": [
      "<timed exec>:12: RuntimeWarning: overflow encountered in multiply\n",
      "<timed exec>:12: RuntimeWarning: overflow encountered in multiply\n",
      "<timed exec>:12: RuntimeWarning: overflow encountered in multiply\n"
     ]
    },
    {
     "name": "stdout",
     "output_type": "stream",
     "text": [
      "CPU times: user 5.97 s, sys: 4.28 s, total: 10.3 s\n",
      "Wall time: 19.3 s\n"
     ]
    }
   ],
   "source": [
    "%%time\n",
    "era = \"historical\"\n",
    "scenario = \"hist\"\n",
    "\n",
    "for aggr_var in aggr_var_lut:\n",
    "    aggr_func = aggr_var_lut[aggr_var]\n",
    "    summary_ds = ds.sel(\n",
    "        scenario=scenario, year=get_year_slice(era)\n",
    "    ).groupby(\"model\").reduce(aggr_func, dim=\"year\")\n",
    "    summary_ds = summary_ds.rio.write_crs(4326).rio.reproject(3338)\n",
    "    for model in summary_ds.model.values:\n",
    "        for varname in summary_ds.data_vars:\n",
    "            arr = summary_ds[varname].sel(model=model).values.round(1)\n",
    "            arr[np.isnan(arr)] = null_value\n",
    "            out_fp = out_dir.joinpath(f\"cordex_indicators_{varname}_{era}_{model}_{scenario}_{aggr_var}.tif\")\n",
    "            write_geotiff(out_fp, arr)"
   ]
  },
  {
   "cell_type": "markdown",
   "id": "62abe4d5-ba7f-4a5b-8342-5755b75287e8",
   "metadata": {},
   "source": [
    "Rrocess future scenarios / eras:"
   ]
  },
  {
   "cell_type": "code",
   "execution_count": 192,
   "id": "c816afa2-c58c-44d3-a3d2-0daa695f5ee1",
   "metadata": {},
   "outputs": [
    {
     "name": "stdout",
     "output_type": "stream",
     "text": [
      "CPU times: user 16.9 s, sys: 16.7 s, total: 33.7 s\n",
      "Wall time: 1min 10s\n"
     ]
    }
   ],
   "source": [
    "%%time\n",
    "\n",
    "for era in [\"midcentury\", \"longterm\"]:\n",
    "    for scenario in [\"rcp45\", \"rcp85\"]:\n",
    "        for aggr_var in aggr_var_lut:\n",
    "            aggr_func = aggr_var_lut[aggr_var]\n",
    "            summary_ds = ds.sel(\n",
    "                scenario=scenario, year=get_year_slice(era)\n",
    "            ).groupby(\"model\").reduce(aggr_func, dim=\"year\")\n",
    "            for model in summary_ds.model.values:\n",
    "                for varname in summary_ds.data_vars:\n",
    "                    arr = summary_ds[varname].sel(model=model).values.round(1)\n",
    "                    arr[np.isnan(arr)] = null_value\n",
    "                    out_fp = out_dir.joinpath(f\"cordex_indicators_{varname}_{era}_{model}_{scenario}_{aggr_var}.tif\")\n",
    "                    write_geotiff(out_fp, arr)"
   ]
  },
  {
   "cell_type": "markdown",
   "id": "a8244022-7608-41c6-b918-bf0b5418a6ea",
   "metadata": {},
   "source": [
    "end"
   ]
  }
 ],
 "metadata": {
  "kernelspec": {
   "display_name": "Python 3 (ipykernel)",
   "language": "python",
   "name": "python3"
  },
  "language_info": {
   "codemirror_mode": {
    "name": "ipython",
    "version": 3
   },
   "file_extension": ".py",
   "mimetype": "text/x-python",
   "name": "python",
   "nbconvert_exporter": "python",
   "pygments_lexer": "ipython3",
   "version": "3.9.15"
  }
 },
 "nbformat": 4,
 "nbformat_minor": 5
}
